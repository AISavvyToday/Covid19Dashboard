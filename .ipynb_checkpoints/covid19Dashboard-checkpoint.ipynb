{
 "cells": [
  {
   "cell_type": "markdown",
   "metadata": {},
   "source": [
    "# Analysis & Visualization of Covid19 World Data (Interactive Dashboard)\n",
    "\n",
    "COVID-19 Data repository by John Hopkins CSSE: https://github.com/CSSEGISandData/COVID-19\n",
    "(There might be delays in data updates hence slight differences in results)\n",
    "<img src=\"COVID-19.png\" width=1000 height=300 />"
   ]
  },
  {
   "cell_type": "code",
   "execution_count": 28,
   "metadata": {},
   "outputs": [],
   "source": [
    "from __future__ import print_function\n",
    "\n",
    "import pandas as pd\n",
    "import numpy as np\n",
    "\n",
    "\n",
    "from ipywidgets import interact, interactive, fixed, interact_manual\n",
    "import ipywidgets as widgets\n",
    "from IPython.core.display import display, HTML\n",
    "from IPython.display import Image\n",
    "\n",
    "\n",
    "import plotly.express as px\n",
    "import seaborn as sns\n",
    "import matplotlib.pyplot as plt\n",
    "import folium\n",
    "import plotly.graph_objects as go\n",
    "plt.style.use('ggplot')"
   ]
  },
  {
   "cell_type": "code",
   "execution_count": 29,
   "metadata": {},
   "outputs": [],
   "source": [
    "# loading data right from the source:\n",
    "\n",
    "death_df = pd.read_csv('https://raw.githubusercontent.com/CSSEGISandData/COVID-19/master/csse_covid_19_data/csse_covid_19_time_series/time_series_covid19_deaths_global.csv')\n",
    "confirmed_df = pd.read_csv('https://raw.githubusercontent.com/CSSEGISandData/COVID-19/master/csse_covid_19_data/csse_covid_19_time_series/time_series_covid19_confirmed_global.csv')\n",
    "recovered_df = pd.read_csv('https://raw.githubusercontent.com/CSSEGISandData/COVID-19/master/csse_covid_19_data/csse_covid_19_time_series/time_series_covid19_recovered_global.csv')\n",
    "country_df = pd.read_csv('https://raw.githubusercontent.com/CSSEGISandData/COVID-19/web-data/data/cases_country.csv')\n"
   ]
  },
  {
   "cell_type": "code",
   "execution_count": 30,
   "metadata": {},
   "outputs": [],
   "source": [
    "# renaming the df column names to lowercase\n",
    "country_df.columns = map(str.lower, country_df.columns)\n",
    "confirmed_df.columns = map(str.lower, confirmed_df.columns)\n",
    "death_df.columns = map(str.lower, death_df.columns)\n",
    "recovered_df.columns = map(str.lower, recovered_df.columns)\n",
    "\n",
    "# changing province/state to state and country/region to country\n",
    "confirmed_df = confirmed_df.rename(columns={'province/state': 'state', 'country/region': 'country'})\n",
    "recovered_df = confirmed_df.rename(columns={'province/state': 'state', 'country/region': 'country'})\n",
    "death_df = death_df.rename(columns={'province/state': 'state', 'country/region': 'country'})\n",
    "country_df = country_df.rename(columns={'country_region': 'country'})"
   ]
  },
  {
   "cell_type": "code",
   "execution_count": 31,
   "metadata": {},
   "outputs": [],
   "source": [
    "# total number of confirmed, death and recovered cases\n",
    "confirmed_total = int(country_df['confirmed'].sum())\n",
    "deaths_total = int(country_df['deaths'].sum())\n",
    "recovered_total = int(country_df['recovered'].sum())\n",
    "active_total = int(country_df['active'].sum())"
   ]
  },
  {
   "cell_type": "code",
   "execution_count": 32,
   "metadata": {},
   "outputs": [
    {
     "name": "stdout",
     "output_type": "stream",
     "text": [
      "Total confirmed cases:  5168665\n",
      "\n",
      "\n",
      "Total recoveries:  1990975\n",
      "\n",
      "\n",
      "Total deaths:  335941\n",
      "\n",
      "\n",
      "Total active cases:  2836513\n"
     ]
    }
   ],
   "source": [
    "print('Total confirmed cases: ',confirmed_total)\n",
    "print('\\n')\n",
    "print('Total recoveries: ',recovered_total)\n",
    "print('\\n')\n",
    "print('Total deaths: ',deaths_total)\n",
    "print('\\n')\n",
    "print('Total active cases: ',active_total)"
   ]
  },
  {
   "cell_type": "code",
   "execution_count": 33,
   "metadata": {},
   "outputs": [],
   "source": [
    "#function to highlight required columns\n",
    "def highlight_col(x):\n",
    "    r = 'background-color: red'\n",
    "    p = 'background-color: purple'\n",
    "    g = 'background-color: grey'\n",
    "    df1 = pd.DataFrame('', index=x.index, columns=x.columns)\n",
    "    df1.iloc[:, 4] = p\n",
    "    df1.iloc[:, 5] = r\n",
    "    df1.iloc[:, 6] = g\n",
    "    return df1"
   ]
  },
  {
   "cell_type": "markdown",
   "metadata": {},
   "source": [
    "### Top confirmed cases by country; input number of countries you want displayed"
   ]
  },
  {
   "cell_type": "code",
   "execution_count": 34,
   "metadata": {},
   "outputs": [
    {
     "data": {
      "application/vnd.jupyter.widget-view+json": {
       "model_id": "d2bc221e75fc48b8acb2c48cfa47eb35",
       "version_major": 2,
       "version_minor": 0
      },
      "text/plain": [
       "interactive(children=(Text(value='10', description='n'), Output()), _dom_classes=('widget-interact',))"
      ]
     },
     "metadata": {},
     "output_type": "display_data"
    },
    {
     "data": {
      "text/plain": [
       "<function __main__.show_latest_cases(n)>"
      ]
     },
     "execution_count": 34,
     "metadata": {},
     "output_type": "execute_result"
    }
   ],
   "source": [
    "#function to display number of worst hit countries you want to see\n",
    "def show_latest_cases(n):\n",
    "    n = int(n)\n",
    "    return country_df.sort_values('confirmed',ascending= False).reset_index(drop=True).head(n).style.apply(highlight_col, axis=None)\n",
    "\n",
    "interact(show_latest_cases, n='10')"
   ]
  },
  {
   "cell_type": "markdown",
   "metadata": {},
   "source": [
    "### Worst-hit countries in terms of cases; use slider to change the number of countries you want on display"
   ]
  },
  {
   "cell_type": "code",
   "execution_count": 35,
   "metadata": {},
   "outputs": [],
   "source": [
    "sorted_country_df=country_df.sort_values('confirmed',ascending=False)"
   ]
  },
  {
   "cell_type": "code",
   "execution_count": 36,
   "metadata": {},
   "outputs": [
    {
     "data": {
      "application/vnd.jupyter.widget-view+json": {
       "model_id": "1f6f28f648924079a3489e9a034cbb09",
       "version_major": 2,
       "version_minor": 0
      },
      "text/plain": [
       "interactive(children=(IntSlider(value=10, description='n', max=30, min=-10), Output()), _dom_classes=('widget-…"
      ]
     },
     "metadata": {},
     "output_type": "display_data"
    },
    {
     "data": {
      "text/plain": [
       "<function __main__.bubble_chart(n)>"
      ]
     },
     "execution_count": 36,
     "metadata": {},
     "output_type": "execute_result"
    }
   ],
   "source": [
    "def bubble_chart(n):\n",
    "    fig = px.scatter(sorted_country_df.head(n), x=\"country\", y=\"confirmed\", size=\"confirmed\", color=\"country\",\n",
    "               hover_name=\"country\", size_max=60)\n",
    "    fig.update_layout(\n",
    "    title=str(n) +\" Worst hit countries (Cases)\",\n",
    "    xaxis_title=\"Countries\",\n",
    "    yaxis_title=\"Confirmed Cases\",\n",
    "    width = 900\n",
    "    )\n",
    "    fig.show()\n",
    "\n",
    "interact(bubble_chart, n=10)"
   ]
  },
  {
   "cell_type": "markdown",
   "metadata": {},
   "source": [
    "### Countries with the highest number of deaths"
   ]
  },
  {
   "cell_type": "code",
   "execution_count": 37,
   "metadata": {},
   "outputs": [],
   "source": [
    "sorted_country_deaths_df=sorted_country_df.sort_values('deaths',ascending=False)\n",
    "sorted_country_deaths_df=sorted_country_deaths_df.reset_index(drop=True)"
   ]
  },
  {
   "cell_type": "code",
   "execution_count": 38,
   "metadata": {},
   "outputs": [
    {
     "data": {
      "application/vnd.plotly.v1+json": {
       "config": {
        "plotlyServerURL": "https://plot.ly"
       },
       "data": [
        {
         "alignmentgroup": "True",
         "hovertemplate": "country=%{x}<br>deaths=%{y}<extra></extra>",
         "legendgroup": "",
         "marker": {
          "color": "pink"
         },
         "name": "",
         "offsetgroup": "",
         "orientation": "v",
         "showlegend": false,
         "textposition": "auto",
         "type": "bar",
         "x": [
          "US",
          "United Kingdom",
          "Italy",
          "Spain",
          "France",
          "Brazil",
          "Belgium",
          "Germany",
          "Iran",
          "Mexico"
         ],
         "xaxis": "x",
         "y": [
          95495,
          36475,
          32616,
          28628,
          28218,
          20047,
          9212,
          8228,
          7300,
          6510
         ],
         "yaxis": "y"
        }
       ],
       "layout": {
        "barmode": "relative",
        "height": 500,
        "legend": {
         "tracegroupgap": 0
        },
        "template": {
         "data": {
          "bar": [
           {
            "error_x": {
             "color": "#2a3f5f"
            },
            "error_y": {
             "color": "#2a3f5f"
            },
            "marker": {
             "line": {
              "color": "#E5ECF6",
              "width": 0.5
             }
            },
            "type": "bar"
           }
          ],
          "barpolar": [
           {
            "marker": {
             "line": {
              "color": "#E5ECF6",
              "width": 0.5
             }
            },
            "type": "barpolar"
           }
          ],
          "carpet": [
           {
            "aaxis": {
             "endlinecolor": "#2a3f5f",
             "gridcolor": "white",
             "linecolor": "white",
             "minorgridcolor": "white",
             "startlinecolor": "#2a3f5f"
            },
            "baxis": {
             "endlinecolor": "#2a3f5f",
             "gridcolor": "white",
             "linecolor": "white",
             "minorgridcolor": "white",
             "startlinecolor": "#2a3f5f"
            },
            "type": "carpet"
           }
          ],
          "choropleth": [
           {
            "colorbar": {
             "outlinewidth": 0,
             "ticks": ""
            },
            "type": "choropleth"
           }
          ],
          "contour": [
           {
            "colorbar": {
             "outlinewidth": 0,
             "ticks": ""
            },
            "colorscale": [
             [
              0,
              "#0d0887"
             ],
             [
              0.1111111111111111,
              "#46039f"
             ],
             [
              0.2222222222222222,
              "#7201a8"
             ],
             [
              0.3333333333333333,
              "#9c179e"
             ],
             [
              0.4444444444444444,
              "#bd3786"
             ],
             [
              0.5555555555555556,
              "#d8576b"
             ],
             [
              0.6666666666666666,
              "#ed7953"
             ],
             [
              0.7777777777777778,
              "#fb9f3a"
             ],
             [
              0.8888888888888888,
              "#fdca26"
             ],
             [
              1,
              "#f0f921"
             ]
            ],
            "type": "contour"
           }
          ],
          "contourcarpet": [
           {
            "colorbar": {
             "outlinewidth": 0,
             "ticks": ""
            },
            "type": "contourcarpet"
           }
          ],
          "heatmap": [
           {
            "colorbar": {
             "outlinewidth": 0,
             "ticks": ""
            },
            "colorscale": [
             [
              0,
              "#0d0887"
             ],
             [
              0.1111111111111111,
              "#46039f"
             ],
             [
              0.2222222222222222,
              "#7201a8"
             ],
             [
              0.3333333333333333,
              "#9c179e"
             ],
             [
              0.4444444444444444,
              "#bd3786"
             ],
             [
              0.5555555555555556,
              "#d8576b"
             ],
             [
              0.6666666666666666,
              "#ed7953"
             ],
             [
              0.7777777777777778,
              "#fb9f3a"
             ],
             [
              0.8888888888888888,
              "#fdca26"
             ],
             [
              1,
              "#f0f921"
             ]
            ],
            "type": "heatmap"
           }
          ],
          "heatmapgl": [
           {
            "colorbar": {
             "outlinewidth": 0,
             "ticks": ""
            },
            "colorscale": [
             [
              0,
              "#0d0887"
             ],
             [
              0.1111111111111111,
              "#46039f"
             ],
             [
              0.2222222222222222,
              "#7201a8"
             ],
             [
              0.3333333333333333,
              "#9c179e"
             ],
             [
              0.4444444444444444,
              "#bd3786"
             ],
             [
              0.5555555555555556,
              "#d8576b"
             ],
             [
              0.6666666666666666,
              "#ed7953"
             ],
             [
              0.7777777777777778,
              "#fb9f3a"
             ],
             [
              0.8888888888888888,
              "#fdca26"
             ],
             [
              1,
              "#f0f921"
             ]
            ],
            "type": "heatmapgl"
           }
          ],
          "histogram": [
           {
            "marker": {
             "colorbar": {
              "outlinewidth": 0,
              "ticks": ""
             }
            },
            "type": "histogram"
           }
          ],
          "histogram2d": [
           {
            "colorbar": {
             "outlinewidth": 0,
             "ticks": ""
            },
            "colorscale": [
             [
              0,
              "#0d0887"
             ],
             [
              0.1111111111111111,
              "#46039f"
             ],
             [
              0.2222222222222222,
              "#7201a8"
             ],
             [
              0.3333333333333333,
              "#9c179e"
             ],
             [
              0.4444444444444444,
              "#bd3786"
             ],
             [
              0.5555555555555556,
              "#d8576b"
             ],
             [
              0.6666666666666666,
              "#ed7953"
             ],
             [
              0.7777777777777778,
              "#fb9f3a"
             ],
             [
              0.8888888888888888,
              "#fdca26"
             ],
             [
              1,
              "#f0f921"
             ]
            ],
            "type": "histogram2d"
           }
          ],
          "histogram2dcontour": [
           {
            "colorbar": {
             "outlinewidth": 0,
             "ticks": ""
            },
            "colorscale": [
             [
              0,
              "#0d0887"
             ],
             [
              0.1111111111111111,
              "#46039f"
             ],
             [
              0.2222222222222222,
              "#7201a8"
             ],
             [
              0.3333333333333333,
              "#9c179e"
             ],
             [
              0.4444444444444444,
              "#bd3786"
             ],
             [
              0.5555555555555556,
              "#d8576b"
             ],
             [
              0.6666666666666666,
              "#ed7953"
             ],
             [
              0.7777777777777778,
              "#fb9f3a"
             ],
             [
              0.8888888888888888,
              "#fdca26"
             ],
             [
              1,
              "#f0f921"
             ]
            ],
            "type": "histogram2dcontour"
           }
          ],
          "mesh3d": [
           {
            "colorbar": {
             "outlinewidth": 0,
             "ticks": ""
            },
            "type": "mesh3d"
           }
          ],
          "parcoords": [
           {
            "line": {
             "colorbar": {
              "outlinewidth": 0,
              "ticks": ""
             }
            },
            "type": "parcoords"
           }
          ],
          "pie": [
           {
            "automargin": true,
            "type": "pie"
           }
          ],
          "scatter": [
           {
            "marker": {
             "colorbar": {
              "outlinewidth": 0,
              "ticks": ""
             }
            },
            "type": "scatter"
           }
          ],
          "scatter3d": [
           {
            "line": {
             "colorbar": {
              "outlinewidth": 0,
              "ticks": ""
             }
            },
            "marker": {
             "colorbar": {
              "outlinewidth": 0,
              "ticks": ""
             }
            },
            "type": "scatter3d"
           }
          ],
          "scattercarpet": [
           {
            "marker": {
             "colorbar": {
              "outlinewidth": 0,
              "ticks": ""
             }
            },
            "type": "scattercarpet"
           }
          ],
          "scattergeo": [
           {
            "marker": {
             "colorbar": {
              "outlinewidth": 0,
              "ticks": ""
             }
            },
            "type": "scattergeo"
           }
          ],
          "scattergl": [
           {
            "marker": {
             "colorbar": {
              "outlinewidth": 0,
              "ticks": ""
             }
            },
            "type": "scattergl"
           }
          ],
          "scattermapbox": [
           {
            "marker": {
             "colorbar": {
              "outlinewidth": 0,
              "ticks": ""
             }
            },
            "type": "scattermapbox"
           }
          ],
          "scatterpolar": [
           {
            "marker": {
             "colorbar": {
              "outlinewidth": 0,
              "ticks": ""
             }
            },
            "type": "scatterpolar"
           }
          ],
          "scatterpolargl": [
           {
            "marker": {
             "colorbar": {
              "outlinewidth": 0,
              "ticks": ""
             }
            },
            "type": "scatterpolargl"
           }
          ],
          "scatterternary": [
           {
            "marker": {
             "colorbar": {
              "outlinewidth": 0,
              "ticks": ""
             }
            },
            "type": "scatterternary"
           }
          ],
          "surface": [
           {
            "colorbar": {
             "outlinewidth": 0,
             "ticks": ""
            },
            "colorscale": [
             [
              0,
              "#0d0887"
             ],
             [
              0.1111111111111111,
              "#46039f"
             ],
             [
              0.2222222222222222,
              "#7201a8"
             ],
             [
              0.3333333333333333,
              "#9c179e"
             ],
             [
              0.4444444444444444,
              "#bd3786"
             ],
             [
              0.5555555555555556,
              "#d8576b"
             ],
             [
              0.6666666666666666,
              "#ed7953"
             ],
             [
              0.7777777777777778,
              "#fb9f3a"
             ],
             [
              0.8888888888888888,
              "#fdca26"
             ],
             [
              1,
              "#f0f921"
             ]
            ],
            "type": "surface"
           }
          ],
          "table": [
           {
            "cells": {
             "fill": {
              "color": "#EBF0F8"
             },
             "line": {
              "color": "white"
             }
            },
            "header": {
             "fill": {
              "color": "#C8D4E3"
             },
             "line": {
              "color": "white"
             }
            },
            "type": "table"
           }
          ]
         },
         "layout": {
          "annotationdefaults": {
           "arrowcolor": "#2a3f5f",
           "arrowhead": 0,
           "arrowwidth": 1
          },
          "coloraxis": {
           "colorbar": {
            "outlinewidth": 0,
            "ticks": ""
           }
          },
          "colorscale": {
           "diverging": [
            [
             0,
             "#8e0152"
            ],
            [
             0.1,
             "#c51b7d"
            ],
            [
             0.2,
             "#de77ae"
            ],
            [
             0.3,
             "#f1b6da"
            ],
            [
             0.4,
             "#fde0ef"
            ],
            [
             0.5,
             "#f7f7f7"
            ],
            [
             0.6,
             "#e6f5d0"
            ],
            [
             0.7,
             "#b8e186"
            ],
            [
             0.8,
             "#7fbc41"
            ],
            [
             0.9,
             "#4d9221"
            ],
            [
             1,
             "#276419"
            ]
           ],
           "sequential": [
            [
             0,
             "#0d0887"
            ],
            [
             0.1111111111111111,
             "#46039f"
            ],
            [
             0.2222222222222222,
             "#7201a8"
            ],
            [
             0.3333333333333333,
             "#9c179e"
            ],
            [
             0.4444444444444444,
             "#bd3786"
            ],
            [
             0.5555555555555556,
             "#d8576b"
            ],
            [
             0.6666666666666666,
             "#ed7953"
            ],
            [
             0.7777777777777778,
             "#fb9f3a"
            ],
            [
             0.8888888888888888,
             "#fdca26"
            ],
            [
             1,
             "#f0f921"
            ]
           ],
           "sequentialminus": [
            [
             0,
             "#0d0887"
            ],
            [
             0.1111111111111111,
             "#46039f"
            ],
            [
             0.2222222222222222,
             "#7201a8"
            ],
            [
             0.3333333333333333,
             "#9c179e"
            ],
            [
             0.4444444444444444,
             "#bd3786"
            ],
            [
             0.5555555555555556,
             "#d8576b"
            ],
            [
             0.6666666666666666,
             "#ed7953"
            ],
            [
             0.7777777777777778,
             "#fb9f3a"
            ],
            [
             0.8888888888888888,
             "#fdca26"
            ],
            [
             1,
             "#f0f921"
            ]
           ]
          },
          "colorway": [
           "#636efa",
           "#EF553B",
           "#00cc96",
           "#ab63fa",
           "#FFA15A",
           "#19d3f3",
           "#FF6692",
           "#B6E880",
           "#FF97FF",
           "#FECB52"
          ],
          "font": {
           "color": "#2a3f5f"
          },
          "geo": {
           "bgcolor": "white",
           "lakecolor": "white",
           "landcolor": "#E5ECF6",
           "showlakes": true,
           "showland": true,
           "subunitcolor": "white"
          },
          "hoverlabel": {
           "align": "left"
          },
          "hovermode": "closest",
          "mapbox": {
           "style": "light"
          },
          "paper_bgcolor": "white",
          "plot_bgcolor": "#E5ECF6",
          "polar": {
           "angularaxis": {
            "gridcolor": "white",
            "linecolor": "white",
            "ticks": ""
           },
           "bgcolor": "#E5ECF6",
           "radialaxis": {
            "gridcolor": "white",
            "linecolor": "white",
            "ticks": ""
           }
          },
          "scene": {
           "xaxis": {
            "backgroundcolor": "#E5ECF6",
            "gridcolor": "white",
            "gridwidth": 2,
            "linecolor": "white",
            "showbackground": true,
            "ticks": "",
            "zerolinecolor": "white"
           },
           "yaxis": {
            "backgroundcolor": "#E5ECF6",
            "gridcolor": "white",
            "gridwidth": 2,
            "linecolor": "white",
            "showbackground": true,
            "ticks": "",
            "zerolinecolor": "white"
           },
           "zaxis": {
            "backgroundcolor": "#E5ECF6",
            "gridcolor": "white",
            "gridwidth": 2,
            "linecolor": "white",
            "showbackground": true,
            "ticks": "",
            "zerolinecolor": "white"
           }
          },
          "shapedefaults": {
           "line": {
            "color": "#2a3f5f"
           }
          },
          "ternary": {
           "aaxis": {
            "gridcolor": "white",
            "linecolor": "white",
            "ticks": ""
           },
           "baxis": {
            "gridcolor": "white",
            "linecolor": "white",
            "ticks": ""
           },
           "bgcolor": "#E5ECF6",
           "caxis": {
            "gridcolor": "white",
            "linecolor": "white",
            "ticks": ""
           }
          },
          "title": {
           "x": 0.05
          },
          "xaxis": {
           "automargin": true,
           "gridcolor": "white",
           "linecolor": "white",
           "ticks": "",
           "title": {
            "standoff": 15
           },
           "zerolinecolor": "white",
           "zerolinewidth": 2
          },
          "yaxis": {
           "automargin": true,
           "gridcolor": "white",
           "linecolor": "white",
           "ticks": "",
           "title": {
            "standoff": 15
           },
           "zerolinecolor": "white",
           "zerolinewidth": 2
          }
         }
        },
        "title": {
         "text": "Countries with highest number of deaths"
        },
        "width": 1000,
        "xaxis": {
         "anchor": "y",
         "domain": [
          0,
          1
         ],
         "title": {
          "text": "country"
         }
        },
        "yaxis": {
         "anchor": "x",
         "domain": [
          0,
          1
         ],
         "title": {
          "text": "deaths"
         }
        }
       }
      },
      "text/html": [
       "<div>\n",
       "        \n",
       "        \n",
       "            <div id=\"b2574db1-80b0-4049-9b3c-3895448910cc\" class=\"plotly-graph-div\" style=\"height:500px; width:1000px;\"></div>\n",
       "            <script type=\"text/javascript\">\n",
       "                require([\"plotly\"], function(Plotly) {\n",
       "                    window.PLOTLYENV=window.PLOTLYENV || {};\n",
       "                    \n",
       "                if (document.getElementById(\"b2574db1-80b0-4049-9b3c-3895448910cc\")) {\n",
       "                    Plotly.newPlot(\n",
       "                        'b2574db1-80b0-4049-9b3c-3895448910cc',\n",
       "                        [{\"alignmentgroup\": \"True\", \"hovertemplate\": \"country=%{x}<br>deaths=%{y}<extra></extra>\", \"legendgroup\": \"\", \"marker\": {\"color\": \"pink\"}, \"name\": \"\", \"offsetgroup\": \"\", \"orientation\": \"v\", \"showlegend\": false, \"textposition\": \"auto\", \"type\": \"bar\", \"x\": [\"US\", \"United Kingdom\", \"Italy\", \"Spain\", \"France\", \"Brazil\", \"Belgium\", \"Germany\", \"Iran\", \"Mexico\"], \"xaxis\": \"x\", \"y\": [95495.0, 36475.0, 32616.0, 28628.0, 28218.0, 20047.0, 9212.0, 8228.0, 7300.0, 6510.0], \"yaxis\": \"y\"}],\n",
       "                        {\"barmode\": \"relative\", \"height\": 500, \"legend\": {\"tracegroupgap\": 0}, \"template\": {\"data\": {\"bar\": [{\"error_x\": {\"color\": \"#2a3f5f\"}, \"error_y\": {\"color\": \"#2a3f5f\"}, \"marker\": {\"line\": {\"color\": \"#E5ECF6\", \"width\": 0.5}}, \"type\": \"bar\"}], \"barpolar\": [{\"marker\": {\"line\": {\"color\": \"#E5ECF6\", \"width\": 0.5}}, \"type\": \"barpolar\"}], \"carpet\": [{\"aaxis\": {\"endlinecolor\": \"#2a3f5f\", \"gridcolor\": \"white\", \"linecolor\": \"white\", \"minorgridcolor\": \"white\", \"startlinecolor\": \"#2a3f5f\"}, \"baxis\": {\"endlinecolor\": \"#2a3f5f\", \"gridcolor\": \"white\", \"linecolor\": \"white\", \"minorgridcolor\": \"white\", \"startlinecolor\": \"#2a3f5f\"}, \"type\": \"carpet\"}], \"choropleth\": [{\"colorbar\": {\"outlinewidth\": 0, \"ticks\": \"\"}, \"type\": \"choropleth\"}], \"contour\": [{\"colorbar\": {\"outlinewidth\": 0, \"ticks\": \"\"}, \"colorscale\": [[0.0, \"#0d0887\"], [0.1111111111111111, \"#46039f\"], [0.2222222222222222, \"#7201a8\"], [0.3333333333333333, \"#9c179e\"], [0.4444444444444444, \"#bd3786\"], [0.5555555555555556, \"#d8576b\"], [0.6666666666666666, \"#ed7953\"], [0.7777777777777778, \"#fb9f3a\"], [0.8888888888888888, \"#fdca26\"], [1.0, \"#f0f921\"]], \"type\": \"contour\"}], \"contourcarpet\": [{\"colorbar\": {\"outlinewidth\": 0, \"ticks\": \"\"}, \"type\": \"contourcarpet\"}], \"heatmap\": [{\"colorbar\": {\"outlinewidth\": 0, \"ticks\": \"\"}, \"colorscale\": [[0.0, \"#0d0887\"], [0.1111111111111111, \"#46039f\"], [0.2222222222222222, \"#7201a8\"], [0.3333333333333333, \"#9c179e\"], [0.4444444444444444, \"#bd3786\"], [0.5555555555555556, \"#d8576b\"], [0.6666666666666666, \"#ed7953\"], [0.7777777777777778, \"#fb9f3a\"], [0.8888888888888888, \"#fdca26\"], [1.0, \"#f0f921\"]], \"type\": \"heatmap\"}], \"heatmapgl\": [{\"colorbar\": {\"outlinewidth\": 0, \"ticks\": \"\"}, \"colorscale\": [[0.0, \"#0d0887\"], [0.1111111111111111, \"#46039f\"], [0.2222222222222222, \"#7201a8\"], [0.3333333333333333, \"#9c179e\"], [0.4444444444444444, \"#bd3786\"], [0.5555555555555556, \"#d8576b\"], [0.6666666666666666, \"#ed7953\"], [0.7777777777777778, \"#fb9f3a\"], [0.8888888888888888, \"#fdca26\"], [1.0, \"#f0f921\"]], \"type\": \"heatmapgl\"}], \"histogram\": [{\"marker\": {\"colorbar\": {\"outlinewidth\": 0, \"ticks\": \"\"}}, \"type\": \"histogram\"}], \"histogram2d\": [{\"colorbar\": {\"outlinewidth\": 0, \"ticks\": \"\"}, \"colorscale\": [[0.0, \"#0d0887\"], [0.1111111111111111, \"#46039f\"], [0.2222222222222222, \"#7201a8\"], [0.3333333333333333, \"#9c179e\"], [0.4444444444444444, \"#bd3786\"], [0.5555555555555556, \"#d8576b\"], [0.6666666666666666, \"#ed7953\"], [0.7777777777777778, \"#fb9f3a\"], [0.8888888888888888, \"#fdca26\"], [1.0, \"#f0f921\"]], \"type\": \"histogram2d\"}], \"histogram2dcontour\": [{\"colorbar\": {\"outlinewidth\": 0, \"ticks\": \"\"}, \"colorscale\": [[0.0, \"#0d0887\"], [0.1111111111111111, \"#46039f\"], [0.2222222222222222, \"#7201a8\"], [0.3333333333333333, \"#9c179e\"], [0.4444444444444444, \"#bd3786\"], [0.5555555555555556, \"#d8576b\"], [0.6666666666666666, \"#ed7953\"], [0.7777777777777778, \"#fb9f3a\"], [0.8888888888888888, \"#fdca26\"], [1.0, \"#f0f921\"]], \"type\": \"histogram2dcontour\"}], \"mesh3d\": [{\"colorbar\": {\"outlinewidth\": 0, \"ticks\": \"\"}, \"type\": \"mesh3d\"}], \"parcoords\": [{\"line\": {\"colorbar\": {\"outlinewidth\": 0, \"ticks\": \"\"}}, \"type\": \"parcoords\"}], \"pie\": [{\"automargin\": true, \"type\": \"pie\"}], \"scatter\": [{\"marker\": {\"colorbar\": {\"outlinewidth\": 0, \"ticks\": \"\"}}, \"type\": \"scatter\"}], \"scatter3d\": [{\"line\": {\"colorbar\": {\"outlinewidth\": 0, \"ticks\": \"\"}}, \"marker\": {\"colorbar\": {\"outlinewidth\": 0, \"ticks\": \"\"}}, \"type\": \"scatter3d\"}], \"scattercarpet\": [{\"marker\": {\"colorbar\": {\"outlinewidth\": 0, \"ticks\": \"\"}}, \"type\": \"scattercarpet\"}], \"scattergeo\": [{\"marker\": {\"colorbar\": {\"outlinewidth\": 0, \"ticks\": \"\"}}, \"type\": \"scattergeo\"}], \"scattergl\": [{\"marker\": {\"colorbar\": {\"outlinewidth\": 0, \"ticks\": \"\"}}, \"type\": \"scattergl\"}], \"scattermapbox\": [{\"marker\": {\"colorbar\": {\"outlinewidth\": 0, \"ticks\": \"\"}}, \"type\": \"scattermapbox\"}], \"scatterpolar\": [{\"marker\": {\"colorbar\": {\"outlinewidth\": 0, \"ticks\": \"\"}}, \"type\": \"scatterpolar\"}], \"scatterpolargl\": [{\"marker\": {\"colorbar\": {\"outlinewidth\": 0, \"ticks\": \"\"}}, \"type\": \"scatterpolargl\"}], \"scatterternary\": [{\"marker\": {\"colorbar\": {\"outlinewidth\": 0, \"ticks\": \"\"}}, \"type\": \"scatterternary\"}], \"surface\": [{\"colorbar\": {\"outlinewidth\": 0, \"ticks\": \"\"}, \"colorscale\": [[0.0, \"#0d0887\"], [0.1111111111111111, \"#46039f\"], [0.2222222222222222, \"#7201a8\"], [0.3333333333333333, \"#9c179e\"], [0.4444444444444444, \"#bd3786\"], [0.5555555555555556, \"#d8576b\"], [0.6666666666666666, \"#ed7953\"], [0.7777777777777778, \"#fb9f3a\"], [0.8888888888888888, \"#fdca26\"], [1.0, \"#f0f921\"]], \"type\": \"surface\"}], \"table\": [{\"cells\": {\"fill\": {\"color\": \"#EBF0F8\"}, \"line\": {\"color\": \"white\"}}, \"header\": {\"fill\": {\"color\": \"#C8D4E3\"}, \"line\": {\"color\": \"white\"}}, \"type\": \"table\"}]}, \"layout\": {\"annotationdefaults\": {\"arrowcolor\": \"#2a3f5f\", \"arrowhead\": 0, \"arrowwidth\": 1}, \"coloraxis\": {\"colorbar\": {\"outlinewidth\": 0, \"ticks\": \"\"}}, \"colorscale\": {\"diverging\": [[0, \"#8e0152\"], [0.1, \"#c51b7d\"], [0.2, \"#de77ae\"], [0.3, \"#f1b6da\"], [0.4, \"#fde0ef\"], [0.5, \"#f7f7f7\"], [0.6, \"#e6f5d0\"], [0.7, \"#b8e186\"], [0.8, \"#7fbc41\"], [0.9, \"#4d9221\"], [1, \"#276419\"]], \"sequential\": [[0.0, \"#0d0887\"], [0.1111111111111111, \"#46039f\"], [0.2222222222222222, \"#7201a8\"], [0.3333333333333333, \"#9c179e\"], [0.4444444444444444, \"#bd3786\"], [0.5555555555555556, \"#d8576b\"], [0.6666666666666666, \"#ed7953\"], [0.7777777777777778, \"#fb9f3a\"], [0.8888888888888888, \"#fdca26\"], [1.0, \"#f0f921\"]], \"sequentialminus\": [[0.0, \"#0d0887\"], [0.1111111111111111, \"#46039f\"], [0.2222222222222222, \"#7201a8\"], [0.3333333333333333, \"#9c179e\"], [0.4444444444444444, \"#bd3786\"], [0.5555555555555556, \"#d8576b\"], [0.6666666666666666, \"#ed7953\"], [0.7777777777777778, \"#fb9f3a\"], [0.8888888888888888, \"#fdca26\"], [1.0, \"#f0f921\"]]}, \"colorway\": [\"#636efa\", \"#EF553B\", \"#00cc96\", \"#ab63fa\", \"#FFA15A\", \"#19d3f3\", \"#FF6692\", \"#B6E880\", \"#FF97FF\", \"#FECB52\"], \"font\": {\"color\": \"#2a3f5f\"}, \"geo\": {\"bgcolor\": \"white\", \"lakecolor\": \"white\", \"landcolor\": \"#E5ECF6\", \"showlakes\": true, \"showland\": true, \"subunitcolor\": \"white\"}, \"hoverlabel\": {\"align\": \"left\"}, \"hovermode\": \"closest\", \"mapbox\": {\"style\": \"light\"}, \"paper_bgcolor\": \"white\", \"plot_bgcolor\": \"#E5ECF6\", \"polar\": {\"angularaxis\": {\"gridcolor\": \"white\", \"linecolor\": \"white\", \"ticks\": \"\"}, \"bgcolor\": \"#E5ECF6\", \"radialaxis\": {\"gridcolor\": \"white\", \"linecolor\": \"white\", \"ticks\": \"\"}}, \"scene\": {\"xaxis\": {\"backgroundcolor\": \"#E5ECF6\", \"gridcolor\": \"white\", \"gridwidth\": 2, \"linecolor\": \"white\", \"showbackground\": true, \"ticks\": \"\", \"zerolinecolor\": \"white\"}, \"yaxis\": {\"backgroundcolor\": \"#E5ECF6\", \"gridcolor\": \"white\", \"gridwidth\": 2, \"linecolor\": \"white\", \"showbackground\": true, \"ticks\": \"\", \"zerolinecolor\": \"white\"}, \"zaxis\": {\"backgroundcolor\": \"#E5ECF6\", \"gridcolor\": \"white\", \"gridwidth\": 2, \"linecolor\": \"white\", \"showbackground\": true, \"ticks\": \"\", \"zerolinecolor\": \"white\"}}, \"shapedefaults\": {\"line\": {\"color\": \"#2a3f5f\"}}, \"ternary\": {\"aaxis\": {\"gridcolor\": \"white\", \"linecolor\": \"white\", \"ticks\": \"\"}, \"baxis\": {\"gridcolor\": \"white\", \"linecolor\": \"white\", \"ticks\": \"\"}, \"bgcolor\": \"#E5ECF6\", \"caxis\": {\"gridcolor\": \"white\", \"linecolor\": \"white\", \"ticks\": \"\"}}, \"title\": {\"x\": 0.05}, \"xaxis\": {\"automargin\": true, \"gridcolor\": \"white\", \"linecolor\": \"white\", \"ticks\": \"\", \"title\": {\"standoff\": 15}, \"zerolinecolor\": \"white\", \"zerolinewidth\": 2}, \"yaxis\": {\"automargin\": true, \"gridcolor\": \"white\", \"linecolor\": \"white\", \"ticks\": \"\", \"title\": {\"standoff\": 15}, \"zerolinecolor\": \"white\", \"zerolinewidth\": 2}}}, \"title\": {\"text\": \"Countries with highest number of deaths\"}, \"width\": 1000, \"xaxis\": {\"anchor\": \"y\", \"domain\": [0.0, 1.0], \"title\": {\"text\": \"country\"}}, \"yaxis\": {\"anchor\": \"x\", \"domain\": [0.0, 1.0], \"title\": {\"text\": \"deaths\"}}},\n",
       "                        {\"responsive\": true}\n",
       "                    ).then(function(){\n",
       "                            \n",
       "var gd = document.getElementById('b2574db1-80b0-4049-9b3c-3895448910cc');\n",
       "var x = new MutationObserver(function (mutations, observer) {{\n",
       "        var display = window.getComputedStyle(gd).display;\n",
       "        if (!display || display === 'none') {{\n",
       "            console.log([gd, 'removed!']);\n",
       "            Plotly.purge(gd);\n",
       "            observer.disconnect();\n",
       "        }}\n",
       "}});\n",
       "\n",
       "// Listen for the removal of the full notebook cells\n",
       "var notebookContainer = gd.closest('#notebook-container');\n",
       "if (notebookContainer) {{\n",
       "    x.observe(notebookContainer, {childList: true});\n",
       "}}\n",
       "\n",
       "// Listen for the clearing of the current output cell\n",
       "var outputEl = gd.closest('.output');\n",
       "if (outputEl) {{\n",
       "    x.observe(outputEl, {childList: true});\n",
       "}}\n",
       "\n",
       "                        })\n",
       "                };\n",
       "                });\n",
       "            </script>\n",
       "        </div>"
      ]
     },
     "metadata": {},
     "output_type": "display_data"
    }
   ],
   "source": [
    "px.bar(\n",
    "    sorted_country_deaths_df.head(10),\n",
    "    x = \"country\",\n",
    "    y = \"deaths\",\n",
    "    title= \"Countries with highest number of deaths\",\n",
    "    color_discrete_sequence=[\"pink\"], \n",
    "    height=500,\n",
    "    width=1000\n",
    ")"
   ]
  },
  {
   "cell_type": "markdown",
   "metadata": {},
   "source": [
    "### Countries with the highest death rates"
   ]
  },
  {
   "cell_type": "code",
   "execution_count": 39,
   "metadata": {},
   "outputs": [],
   "source": [
    "sorted_country_df['death_rates']=sorted_country_df['deaths']/sorted_country_df['confirmed']\n",
    "sorted_country_deathrates_df=sorted_country_df.sort_values('death_rates',ascending=False)\n",
    "sorted_country_deathrates_df=sorted_country_deathrates_df.reset_index(drop=True)"
   ]
  },
  {
   "cell_type": "code",
   "execution_count": 40,
   "metadata": {},
   "outputs": [
    {
     "data": {
      "application/vnd.plotly.v1+json": {
       "config": {
        "plotlyServerURL": "https://plot.ly"
       },
       "data": [
        {
         "alignmentgroup": "True",
         "hovertemplate": "country=%{x}<br>death_rates=%{y}<extra></extra>",
         "legendgroup": "",
         "marker": {
          "color": "red"
         },
         "name": "",
         "offsetgroup": "",
         "orientation": "v",
         "showlegend": false,
         "textposition": "auto",
         "type": "bar",
         "x": [
          "US",
          "Russia",
          "Brazil",
          "United Kingdom",
          "Spain",
          "Italy",
          "France",
          "Germany",
          "Turkey",
          "Iran"
         ],
         "xaxis": "x",
         "y": [
          0.060046568394735995,
          0.009952580502867226,
          0.0646495983385308,
          0.1427408593019297,
          0.12191258133751234,
          0.1426409747308207,
          0.15504225228294194,
          0.04583844011142061,
          0.027676375404530745,
          0.05544921459605627
         ],
         "yaxis": "y"
        }
       ],
       "layout": {
        "barmode": "relative",
        "height": 500,
        "legend": {
         "tracegroupgap": 0
        },
        "template": {
         "data": {
          "bar": [
           {
            "error_x": {
             "color": "#2a3f5f"
            },
            "error_y": {
             "color": "#2a3f5f"
            },
            "marker": {
             "line": {
              "color": "#E5ECF6",
              "width": 0.5
             }
            },
            "type": "bar"
           }
          ],
          "barpolar": [
           {
            "marker": {
             "line": {
              "color": "#E5ECF6",
              "width": 0.5
             }
            },
            "type": "barpolar"
           }
          ],
          "carpet": [
           {
            "aaxis": {
             "endlinecolor": "#2a3f5f",
             "gridcolor": "white",
             "linecolor": "white",
             "minorgridcolor": "white",
             "startlinecolor": "#2a3f5f"
            },
            "baxis": {
             "endlinecolor": "#2a3f5f",
             "gridcolor": "white",
             "linecolor": "white",
             "minorgridcolor": "white",
             "startlinecolor": "#2a3f5f"
            },
            "type": "carpet"
           }
          ],
          "choropleth": [
           {
            "colorbar": {
             "outlinewidth": 0,
             "ticks": ""
            },
            "type": "choropleth"
           }
          ],
          "contour": [
           {
            "colorbar": {
             "outlinewidth": 0,
             "ticks": ""
            },
            "colorscale": [
             [
              0,
              "#0d0887"
             ],
             [
              0.1111111111111111,
              "#46039f"
             ],
             [
              0.2222222222222222,
              "#7201a8"
             ],
             [
              0.3333333333333333,
              "#9c179e"
             ],
             [
              0.4444444444444444,
              "#bd3786"
             ],
             [
              0.5555555555555556,
              "#d8576b"
             ],
             [
              0.6666666666666666,
              "#ed7953"
             ],
             [
              0.7777777777777778,
              "#fb9f3a"
             ],
             [
              0.8888888888888888,
              "#fdca26"
             ],
             [
              1,
              "#f0f921"
             ]
            ],
            "type": "contour"
           }
          ],
          "contourcarpet": [
           {
            "colorbar": {
             "outlinewidth": 0,
             "ticks": ""
            },
            "type": "contourcarpet"
           }
          ],
          "heatmap": [
           {
            "colorbar": {
             "outlinewidth": 0,
             "ticks": ""
            },
            "colorscale": [
             [
              0,
              "#0d0887"
             ],
             [
              0.1111111111111111,
              "#46039f"
             ],
             [
              0.2222222222222222,
              "#7201a8"
             ],
             [
              0.3333333333333333,
              "#9c179e"
             ],
             [
              0.4444444444444444,
              "#bd3786"
             ],
             [
              0.5555555555555556,
              "#d8576b"
             ],
             [
              0.6666666666666666,
              "#ed7953"
             ],
             [
              0.7777777777777778,
              "#fb9f3a"
             ],
             [
              0.8888888888888888,
              "#fdca26"
             ],
             [
              1,
              "#f0f921"
             ]
            ],
            "type": "heatmap"
           }
          ],
          "heatmapgl": [
           {
            "colorbar": {
             "outlinewidth": 0,
             "ticks": ""
            },
            "colorscale": [
             [
              0,
              "#0d0887"
             ],
             [
              0.1111111111111111,
              "#46039f"
             ],
             [
              0.2222222222222222,
              "#7201a8"
             ],
             [
              0.3333333333333333,
              "#9c179e"
             ],
             [
              0.4444444444444444,
              "#bd3786"
             ],
             [
              0.5555555555555556,
              "#d8576b"
             ],
             [
              0.6666666666666666,
              "#ed7953"
             ],
             [
              0.7777777777777778,
              "#fb9f3a"
             ],
             [
              0.8888888888888888,
              "#fdca26"
             ],
             [
              1,
              "#f0f921"
             ]
            ],
            "type": "heatmapgl"
           }
          ],
          "histogram": [
           {
            "marker": {
             "colorbar": {
              "outlinewidth": 0,
              "ticks": ""
             }
            },
            "type": "histogram"
           }
          ],
          "histogram2d": [
           {
            "colorbar": {
             "outlinewidth": 0,
             "ticks": ""
            },
            "colorscale": [
             [
              0,
              "#0d0887"
             ],
             [
              0.1111111111111111,
              "#46039f"
             ],
             [
              0.2222222222222222,
              "#7201a8"
             ],
             [
              0.3333333333333333,
              "#9c179e"
             ],
             [
              0.4444444444444444,
              "#bd3786"
             ],
             [
              0.5555555555555556,
              "#d8576b"
             ],
             [
              0.6666666666666666,
              "#ed7953"
             ],
             [
              0.7777777777777778,
              "#fb9f3a"
             ],
             [
              0.8888888888888888,
              "#fdca26"
             ],
             [
              1,
              "#f0f921"
             ]
            ],
            "type": "histogram2d"
           }
          ],
          "histogram2dcontour": [
           {
            "colorbar": {
             "outlinewidth": 0,
             "ticks": ""
            },
            "colorscale": [
             [
              0,
              "#0d0887"
             ],
             [
              0.1111111111111111,
              "#46039f"
             ],
             [
              0.2222222222222222,
              "#7201a8"
             ],
             [
              0.3333333333333333,
              "#9c179e"
             ],
             [
              0.4444444444444444,
              "#bd3786"
             ],
             [
              0.5555555555555556,
              "#d8576b"
             ],
             [
              0.6666666666666666,
              "#ed7953"
             ],
             [
              0.7777777777777778,
              "#fb9f3a"
             ],
             [
              0.8888888888888888,
              "#fdca26"
             ],
             [
              1,
              "#f0f921"
             ]
            ],
            "type": "histogram2dcontour"
           }
          ],
          "mesh3d": [
           {
            "colorbar": {
             "outlinewidth": 0,
             "ticks": ""
            },
            "type": "mesh3d"
           }
          ],
          "parcoords": [
           {
            "line": {
             "colorbar": {
              "outlinewidth": 0,
              "ticks": ""
             }
            },
            "type": "parcoords"
           }
          ],
          "pie": [
           {
            "automargin": true,
            "type": "pie"
           }
          ],
          "scatter": [
           {
            "marker": {
             "colorbar": {
              "outlinewidth": 0,
              "ticks": ""
             }
            },
            "type": "scatter"
           }
          ],
          "scatter3d": [
           {
            "line": {
             "colorbar": {
              "outlinewidth": 0,
              "ticks": ""
             }
            },
            "marker": {
             "colorbar": {
              "outlinewidth": 0,
              "ticks": ""
             }
            },
            "type": "scatter3d"
           }
          ],
          "scattercarpet": [
           {
            "marker": {
             "colorbar": {
              "outlinewidth": 0,
              "ticks": ""
             }
            },
            "type": "scattercarpet"
           }
          ],
          "scattergeo": [
           {
            "marker": {
             "colorbar": {
              "outlinewidth": 0,
              "ticks": ""
             }
            },
            "type": "scattergeo"
           }
          ],
          "scattergl": [
           {
            "marker": {
             "colorbar": {
              "outlinewidth": 0,
              "ticks": ""
             }
            },
            "type": "scattergl"
           }
          ],
          "scattermapbox": [
           {
            "marker": {
             "colorbar": {
              "outlinewidth": 0,
              "ticks": ""
             }
            },
            "type": "scattermapbox"
           }
          ],
          "scatterpolar": [
           {
            "marker": {
             "colorbar": {
              "outlinewidth": 0,
              "ticks": ""
             }
            },
            "type": "scatterpolar"
           }
          ],
          "scatterpolargl": [
           {
            "marker": {
             "colorbar": {
              "outlinewidth": 0,
              "ticks": ""
             }
            },
            "type": "scatterpolargl"
           }
          ],
          "scatterternary": [
           {
            "marker": {
             "colorbar": {
              "outlinewidth": 0,
              "ticks": ""
             }
            },
            "type": "scatterternary"
           }
          ],
          "surface": [
           {
            "colorbar": {
             "outlinewidth": 0,
             "ticks": ""
            },
            "colorscale": [
             [
              0,
              "#0d0887"
             ],
             [
              0.1111111111111111,
              "#46039f"
             ],
             [
              0.2222222222222222,
              "#7201a8"
             ],
             [
              0.3333333333333333,
              "#9c179e"
             ],
             [
              0.4444444444444444,
              "#bd3786"
             ],
             [
              0.5555555555555556,
              "#d8576b"
             ],
             [
              0.6666666666666666,
              "#ed7953"
             ],
             [
              0.7777777777777778,
              "#fb9f3a"
             ],
             [
              0.8888888888888888,
              "#fdca26"
             ],
             [
              1,
              "#f0f921"
             ]
            ],
            "type": "surface"
           }
          ],
          "table": [
           {
            "cells": {
             "fill": {
              "color": "#EBF0F8"
             },
             "line": {
              "color": "white"
             }
            },
            "header": {
             "fill": {
              "color": "#C8D4E3"
             },
             "line": {
              "color": "white"
             }
            },
            "type": "table"
           }
          ]
         },
         "layout": {
          "annotationdefaults": {
           "arrowcolor": "#2a3f5f",
           "arrowhead": 0,
           "arrowwidth": 1
          },
          "coloraxis": {
           "colorbar": {
            "outlinewidth": 0,
            "ticks": ""
           }
          },
          "colorscale": {
           "diverging": [
            [
             0,
             "#8e0152"
            ],
            [
             0.1,
             "#c51b7d"
            ],
            [
             0.2,
             "#de77ae"
            ],
            [
             0.3,
             "#f1b6da"
            ],
            [
             0.4,
             "#fde0ef"
            ],
            [
             0.5,
             "#f7f7f7"
            ],
            [
             0.6,
             "#e6f5d0"
            ],
            [
             0.7,
             "#b8e186"
            ],
            [
             0.8,
             "#7fbc41"
            ],
            [
             0.9,
             "#4d9221"
            ],
            [
             1,
             "#276419"
            ]
           ],
           "sequential": [
            [
             0,
             "#0d0887"
            ],
            [
             0.1111111111111111,
             "#46039f"
            ],
            [
             0.2222222222222222,
             "#7201a8"
            ],
            [
             0.3333333333333333,
             "#9c179e"
            ],
            [
             0.4444444444444444,
             "#bd3786"
            ],
            [
             0.5555555555555556,
             "#d8576b"
            ],
            [
             0.6666666666666666,
             "#ed7953"
            ],
            [
             0.7777777777777778,
             "#fb9f3a"
            ],
            [
             0.8888888888888888,
             "#fdca26"
            ],
            [
             1,
             "#f0f921"
            ]
           ],
           "sequentialminus": [
            [
             0,
             "#0d0887"
            ],
            [
             0.1111111111111111,
             "#46039f"
            ],
            [
             0.2222222222222222,
             "#7201a8"
            ],
            [
             0.3333333333333333,
             "#9c179e"
            ],
            [
             0.4444444444444444,
             "#bd3786"
            ],
            [
             0.5555555555555556,
             "#d8576b"
            ],
            [
             0.6666666666666666,
             "#ed7953"
            ],
            [
             0.7777777777777778,
             "#fb9f3a"
            ],
            [
             0.8888888888888888,
             "#fdca26"
            ],
            [
             1,
             "#f0f921"
            ]
           ]
          },
          "colorway": [
           "#636efa",
           "#EF553B",
           "#00cc96",
           "#ab63fa",
           "#FFA15A",
           "#19d3f3",
           "#FF6692",
           "#B6E880",
           "#FF97FF",
           "#FECB52"
          ],
          "font": {
           "color": "#2a3f5f"
          },
          "geo": {
           "bgcolor": "white",
           "lakecolor": "white",
           "landcolor": "#E5ECF6",
           "showlakes": true,
           "showland": true,
           "subunitcolor": "white"
          },
          "hoverlabel": {
           "align": "left"
          },
          "hovermode": "closest",
          "mapbox": {
           "style": "light"
          },
          "paper_bgcolor": "white",
          "plot_bgcolor": "#E5ECF6",
          "polar": {
           "angularaxis": {
            "gridcolor": "white",
            "linecolor": "white",
            "ticks": ""
           },
           "bgcolor": "#E5ECF6",
           "radialaxis": {
            "gridcolor": "white",
            "linecolor": "white",
            "ticks": ""
           }
          },
          "scene": {
           "xaxis": {
            "backgroundcolor": "#E5ECF6",
            "gridcolor": "white",
            "gridwidth": 2,
            "linecolor": "white",
            "showbackground": true,
            "ticks": "",
            "zerolinecolor": "white"
           },
           "yaxis": {
            "backgroundcolor": "#E5ECF6",
            "gridcolor": "white",
            "gridwidth": 2,
            "linecolor": "white",
            "showbackground": true,
            "ticks": "",
            "zerolinecolor": "white"
           },
           "zaxis": {
            "backgroundcolor": "#E5ECF6",
            "gridcolor": "white",
            "gridwidth": 2,
            "linecolor": "white",
            "showbackground": true,
            "ticks": "",
            "zerolinecolor": "white"
           }
          },
          "shapedefaults": {
           "line": {
            "color": "#2a3f5f"
           }
          },
          "ternary": {
           "aaxis": {
            "gridcolor": "white",
            "linecolor": "white",
            "ticks": ""
           },
           "baxis": {
            "gridcolor": "white",
            "linecolor": "white",
            "ticks": ""
           },
           "bgcolor": "#E5ECF6",
           "caxis": {
            "gridcolor": "white",
            "linecolor": "white",
            "ticks": ""
           }
          },
          "title": {
           "x": 0.05
          },
          "xaxis": {
           "automargin": true,
           "gridcolor": "white",
           "linecolor": "white",
           "ticks": "",
           "title": {
            "standoff": 15
           },
           "zerolinecolor": "white",
           "zerolinewidth": 2
          },
          "yaxis": {
           "automargin": true,
           "gridcolor": "white",
           "linecolor": "white",
           "ticks": "",
           "title": {
            "standoff": 15
           },
           "zerolinecolor": "white",
           "zerolinewidth": 2
          }
         }
        },
        "title": {
         "text": "Highest Death Rates (Ratio of Total Deaths : Total Confirmed Cases)"
        },
        "width": 800,
        "xaxis": {
         "anchor": "y",
         "domain": [
          0,
          1
         ],
         "title": {
          "text": "country"
         }
        },
        "yaxis": {
         "anchor": "x",
         "domain": [
          0,
          1
         ],
         "title": {
          "text": "death_rates"
         }
        }
       }
      },
      "text/html": [
       "<div>\n",
       "        \n",
       "        \n",
       "            <div id=\"7cabc109-0fc8-4b62-90b0-6b1d4d23df87\" class=\"plotly-graph-div\" style=\"height:500px; width:800px;\"></div>\n",
       "            <script type=\"text/javascript\">\n",
       "                require([\"plotly\"], function(Plotly) {\n",
       "                    window.PLOTLYENV=window.PLOTLYENV || {};\n",
       "                    \n",
       "                if (document.getElementById(\"7cabc109-0fc8-4b62-90b0-6b1d4d23df87\")) {\n",
       "                    Plotly.newPlot(\n",
       "                        '7cabc109-0fc8-4b62-90b0-6b1d4d23df87',\n",
       "                        [{\"alignmentgroup\": \"True\", \"hovertemplate\": \"country=%{x}<br>death_rates=%{y}<extra></extra>\", \"legendgroup\": \"\", \"marker\": {\"color\": \"red\"}, \"name\": \"\", \"offsetgroup\": \"\", \"orientation\": \"v\", \"showlegend\": false, \"textposition\": \"auto\", \"type\": \"bar\", \"x\": [\"US\", \"Russia\", \"Brazil\", \"United Kingdom\", \"Spain\", \"Italy\", \"France\", \"Germany\", \"Turkey\", \"Iran\"], \"xaxis\": \"x\", \"y\": [0.060046568394735995, 0.009952580502867226, 0.0646495983385308, 0.1427408593019297, 0.12191258133751234, 0.1426409747308207, 0.15504225228294194, 0.04583844011142061, 0.027676375404530745, 0.05544921459605627], \"yaxis\": \"y\"}],\n",
       "                        {\"barmode\": \"relative\", \"height\": 500, \"legend\": {\"tracegroupgap\": 0}, \"template\": {\"data\": {\"bar\": [{\"error_x\": {\"color\": \"#2a3f5f\"}, \"error_y\": {\"color\": \"#2a3f5f\"}, \"marker\": {\"line\": {\"color\": \"#E5ECF6\", \"width\": 0.5}}, \"type\": \"bar\"}], \"barpolar\": [{\"marker\": {\"line\": {\"color\": \"#E5ECF6\", \"width\": 0.5}}, \"type\": \"barpolar\"}], \"carpet\": [{\"aaxis\": {\"endlinecolor\": \"#2a3f5f\", \"gridcolor\": \"white\", \"linecolor\": \"white\", \"minorgridcolor\": \"white\", \"startlinecolor\": \"#2a3f5f\"}, \"baxis\": {\"endlinecolor\": \"#2a3f5f\", \"gridcolor\": \"white\", \"linecolor\": \"white\", \"minorgridcolor\": \"white\", \"startlinecolor\": \"#2a3f5f\"}, \"type\": \"carpet\"}], \"choropleth\": [{\"colorbar\": {\"outlinewidth\": 0, \"ticks\": \"\"}, \"type\": \"choropleth\"}], \"contour\": [{\"colorbar\": {\"outlinewidth\": 0, \"ticks\": \"\"}, \"colorscale\": [[0.0, \"#0d0887\"], [0.1111111111111111, \"#46039f\"], [0.2222222222222222, \"#7201a8\"], [0.3333333333333333, \"#9c179e\"], [0.4444444444444444, \"#bd3786\"], [0.5555555555555556, \"#d8576b\"], [0.6666666666666666, \"#ed7953\"], [0.7777777777777778, \"#fb9f3a\"], [0.8888888888888888, \"#fdca26\"], [1.0, \"#f0f921\"]], \"type\": \"contour\"}], \"contourcarpet\": [{\"colorbar\": {\"outlinewidth\": 0, \"ticks\": \"\"}, \"type\": \"contourcarpet\"}], \"heatmap\": [{\"colorbar\": {\"outlinewidth\": 0, \"ticks\": \"\"}, \"colorscale\": [[0.0, \"#0d0887\"], [0.1111111111111111, \"#46039f\"], [0.2222222222222222, \"#7201a8\"], [0.3333333333333333, \"#9c179e\"], [0.4444444444444444, \"#bd3786\"], [0.5555555555555556, \"#d8576b\"], [0.6666666666666666, \"#ed7953\"], [0.7777777777777778, \"#fb9f3a\"], [0.8888888888888888, \"#fdca26\"], [1.0, \"#f0f921\"]], \"type\": \"heatmap\"}], \"heatmapgl\": [{\"colorbar\": {\"outlinewidth\": 0, \"ticks\": \"\"}, \"colorscale\": [[0.0, \"#0d0887\"], [0.1111111111111111, \"#46039f\"], [0.2222222222222222, \"#7201a8\"], [0.3333333333333333, \"#9c179e\"], [0.4444444444444444, \"#bd3786\"], [0.5555555555555556, \"#d8576b\"], [0.6666666666666666, \"#ed7953\"], [0.7777777777777778, \"#fb9f3a\"], [0.8888888888888888, \"#fdca26\"], [1.0, \"#f0f921\"]], \"type\": \"heatmapgl\"}], \"histogram\": [{\"marker\": {\"colorbar\": {\"outlinewidth\": 0, \"ticks\": \"\"}}, \"type\": \"histogram\"}], \"histogram2d\": [{\"colorbar\": {\"outlinewidth\": 0, \"ticks\": \"\"}, \"colorscale\": [[0.0, \"#0d0887\"], [0.1111111111111111, \"#46039f\"], [0.2222222222222222, \"#7201a8\"], [0.3333333333333333, \"#9c179e\"], [0.4444444444444444, \"#bd3786\"], [0.5555555555555556, \"#d8576b\"], [0.6666666666666666, \"#ed7953\"], [0.7777777777777778, \"#fb9f3a\"], [0.8888888888888888, \"#fdca26\"], [1.0, \"#f0f921\"]], \"type\": \"histogram2d\"}], \"histogram2dcontour\": [{\"colorbar\": {\"outlinewidth\": 0, \"ticks\": \"\"}, \"colorscale\": [[0.0, \"#0d0887\"], [0.1111111111111111, \"#46039f\"], [0.2222222222222222, \"#7201a8\"], [0.3333333333333333, \"#9c179e\"], [0.4444444444444444, \"#bd3786\"], [0.5555555555555556, \"#d8576b\"], [0.6666666666666666, \"#ed7953\"], [0.7777777777777778, \"#fb9f3a\"], [0.8888888888888888, \"#fdca26\"], [1.0, \"#f0f921\"]], \"type\": \"histogram2dcontour\"}], \"mesh3d\": [{\"colorbar\": {\"outlinewidth\": 0, \"ticks\": \"\"}, \"type\": \"mesh3d\"}], \"parcoords\": [{\"line\": {\"colorbar\": {\"outlinewidth\": 0, \"ticks\": \"\"}}, \"type\": \"parcoords\"}], \"pie\": [{\"automargin\": true, \"type\": \"pie\"}], \"scatter\": [{\"marker\": {\"colorbar\": {\"outlinewidth\": 0, \"ticks\": \"\"}}, \"type\": \"scatter\"}], \"scatter3d\": [{\"line\": {\"colorbar\": {\"outlinewidth\": 0, \"ticks\": \"\"}}, \"marker\": {\"colorbar\": {\"outlinewidth\": 0, \"ticks\": \"\"}}, \"type\": \"scatter3d\"}], \"scattercarpet\": [{\"marker\": {\"colorbar\": {\"outlinewidth\": 0, \"ticks\": \"\"}}, \"type\": \"scattercarpet\"}], \"scattergeo\": [{\"marker\": {\"colorbar\": {\"outlinewidth\": 0, \"ticks\": \"\"}}, \"type\": \"scattergeo\"}], \"scattergl\": [{\"marker\": {\"colorbar\": {\"outlinewidth\": 0, \"ticks\": \"\"}}, \"type\": \"scattergl\"}], \"scattermapbox\": [{\"marker\": {\"colorbar\": {\"outlinewidth\": 0, \"ticks\": \"\"}}, \"type\": \"scattermapbox\"}], \"scatterpolar\": [{\"marker\": {\"colorbar\": {\"outlinewidth\": 0, \"ticks\": \"\"}}, \"type\": \"scatterpolar\"}], \"scatterpolargl\": [{\"marker\": {\"colorbar\": {\"outlinewidth\": 0, \"ticks\": \"\"}}, \"type\": \"scatterpolargl\"}], \"scatterternary\": [{\"marker\": {\"colorbar\": {\"outlinewidth\": 0, \"ticks\": \"\"}}, \"type\": \"scatterternary\"}], \"surface\": [{\"colorbar\": {\"outlinewidth\": 0, \"ticks\": \"\"}, \"colorscale\": [[0.0, \"#0d0887\"], [0.1111111111111111, \"#46039f\"], [0.2222222222222222, \"#7201a8\"], [0.3333333333333333, \"#9c179e\"], [0.4444444444444444, \"#bd3786\"], [0.5555555555555556, \"#d8576b\"], [0.6666666666666666, \"#ed7953\"], [0.7777777777777778, \"#fb9f3a\"], [0.8888888888888888, \"#fdca26\"], [1.0, \"#f0f921\"]], \"type\": \"surface\"}], \"table\": [{\"cells\": {\"fill\": {\"color\": \"#EBF0F8\"}, \"line\": {\"color\": \"white\"}}, \"header\": {\"fill\": {\"color\": \"#C8D4E3\"}, \"line\": {\"color\": \"white\"}}, \"type\": \"table\"}]}, \"layout\": {\"annotationdefaults\": {\"arrowcolor\": \"#2a3f5f\", \"arrowhead\": 0, \"arrowwidth\": 1}, \"coloraxis\": {\"colorbar\": {\"outlinewidth\": 0, \"ticks\": \"\"}}, \"colorscale\": {\"diverging\": [[0, \"#8e0152\"], [0.1, \"#c51b7d\"], [0.2, \"#de77ae\"], [0.3, \"#f1b6da\"], [0.4, \"#fde0ef\"], [0.5, \"#f7f7f7\"], [0.6, \"#e6f5d0\"], [0.7, \"#b8e186\"], [0.8, \"#7fbc41\"], [0.9, \"#4d9221\"], [1, \"#276419\"]], \"sequential\": [[0.0, \"#0d0887\"], [0.1111111111111111, \"#46039f\"], [0.2222222222222222, \"#7201a8\"], [0.3333333333333333, \"#9c179e\"], [0.4444444444444444, \"#bd3786\"], [0.5555555555555556, \"#d8576b\"], [0.6666666666666666, \"#ed7953\"], [0.7777777777777778, \"#fb9f3a\"], [0.8888888888888888, \"#fdca26\"], [1.0, \"#f0f921\"]], \"sequentialminus\": [[0.0, \"#0d0887\"], [0.1111111111111111, \"#46039f\"], [0.2222222222222222, \"#7201a8\"], [0.3333333333333333, \"#9c179e\"], [0.4444444444444444, \"#bd3786\"], [0.5555555555555556, \"#d8576b\"], [0.6666666666666666, \"#ed7953\"], [0.7777777777777778, \"#fb9f3a\"], [0.8888888888888888, \"#fdca26\"], [1.0, \"#f0f921\"]]}, \"colorway\": [\"#636efa\", \"#EF553B\", \"#00cc96\", \"#ab63fa\", \"#FFA15A\", \"#19d3f3\", \"#FF6692\", \"#B6E880\", \"#FF97FF\", \"#FECB52\"], \"font\": {\"color\": \"#2a3f5f\"}, \"geo\": {\"bgcolor\": \"white\", \"lakecolor\": \"white\", \"landcolor\": \"#E5ECF6\", \"showlakes\": true, \"showland\": true, \"subunitcolor\": \"white\"}, \"hoverlabel\": {\"align\": \"left\"}, \"hovermode\": \"closest\", \"mapbox\": {\"style\": \"light\"}, \"paper_bgcolor\": \"white\", \"plot_bgcolor\": \"#E5ECF6\", \"polar\": {\"angularaxis\": {\"gridcolor\": \"white\", \"linecolor\": \"white\", \"ticks\": \"\"}, \"bgcolor\": \"#E5ECF6\", \"radialaxis\": {\"gridcolor\": \"white\", \"linecolor\": \"white\", \"ticks\": \"\"}}, \"scene\": {\"xaxis\": {\"backgroundcolor\": \"#E5ECF6\", \"gridcolor\": \"white\", \"gridwidth\": 2, \"linecolor\": \"white\", \"showbackground\": true, \"ticks\": \"\", \"zerolinecolor\": \"white\"}, \"yaxis\": {\"backgroundcolor\": \"#E5ECF6\", \"gridcolor\": \"white\", \"gridwidth\": 2, \"linecolor\": \"white\", \"showbackground\": true, \"ticks\": \"\", \"zerolinecolor\": \"white\"}, \"zaxis\": {\"backgroundcolor\": \"#E5ECF6\", \"gridcolor\": \"white\", \"gridwidth\": 2, \"linecolor\": \"white\", \"showbackground\": true, \"ticks\": \"\", \"zerolinecolor\": \"white\"}}, \"shapedefaults\": {\"line\": {\"color\": \"#2a3f5f\"}}, \"ternary\": {\"aaxis\": {\"gridcolor\": \"white\", \"linecolor\": \"white\", \"ticks\": \"\"}, \"baxis\": {\"gridcolor\": \"white\", \"linecolor\": \"white\", \"ticks\": \"\"}, \"bgcolor\": \"#E5ECF6\", \"caxis\": {\"gridcolor\": \"white\", \"linecolor\": \"white\", \"ticks\": \"\"}}, \"title\": {\"x\": 0.05}, \"xaxis\": {\"automargin\": true, \"gridcolor\": \"white\", \"linecolor\": \"white\", \"ticks\": \"\", \"title\": {\"standoff\": 15}, \"zerolinecolor\": \"white\", \"zerolinewidth\": 2}, \"yaxis\": {\"automargin\": true, \"gridcolor\": \"white\", \"linecolor\": \"white\", \"ticks\": \"\", \"title\": {\"standoff\": 15}, \"zerolinecolor\": \"white\", \"zerolinewidth\": 2}}}, \"title\": {\"text\": \"Highest Death Rates (Ratio of Total Deaths : Total Confirmed Cases)\"}, \"width\": 800, \"xaxis\": {\"anchor\": \"y\", \"domain\": [0.0, 1.0], \"title\": {\"text\": \"country\"}}, \"yaxis\": {\"anchor\": \"x\", \"domain\": [0.0, 1.0], \"title\": {\"text\": \"death_rates\"}}},\n",
       "                        {\"responsive\": true}\n",
       "                    ).then(function(){\n",
       "                            \n",
       "var gd = document.getElementById('7cabc109-0fc8-4b62-90b0-6b1d4d23df87');\n",
       "var x = new MutationObserver(function (mutations, observer) {{\n",
       "        var display = window.getComputedStyle(gd).display;\n",
       "        if (!display || display === 'none') {{\n",
       "            console.log([gd, 'removed!']);\n",
       "            Plotly.purge(gd);\n",
       "            observer.disconnect();\n",
       "        }}\n",
       "}});\n",
       "\n",
       "// Listen for the removal of the full notebook cells\n",
       "var notebookContainer = gd.closest('#notebook-container');\n",
       "if (notebookContainer) {{\n",
       "    x.observe(notebookContainer, {childList: true});\n",
       "}}\n",
       "\n",
       "// Listen for the clearing of the current output cell\n",
       "var outputEl = gd.closest('.output');\n",
       "if (outputEl) {{\n",
       "    x.observe(outputEl, {childList: true});\n",
       "}}\n",
       "\n",
       "                        })\n",
       "                };\n",
       "                });\n",
       "            </script>\n",
       "        </div>"
      ]
     },
     "metadata": {},
     "output_type": "display_data"
    }
   ],
   "source": [
    "px.bar(\n",
    "    sorted_country_df.head(10),\n",
    "    x = \"country\",\n",
    "    y = \"death_rates\",\n",
    "    title= \"Highest Death Rates (Ratio of Total Deaths : Total Confirmed Cases)\",\n",
    "    color_discrete_sequence=[\"red\"], \n",
    "    height=500,\n",
    "    width=800\n",
    ")"
   ]
  },
  {
   "cell_type": "markdown",
   "metadata": {},
   "source": [
    "### Confirmed cases & deaths by day for a select country; input country you want to view"
   ]
  },
  {
   "cell_type": "code",
   "execution_count": 41,
   "metadata": {},
   "outputs": [],
   "source": [
    "def plot_cases_of_a_country(country):\n",
    "    labels = ['confirmed', 'deaths']\n",
    "    colors = ['blue', 'red']\n",
    "    mode_size = [6, 8]\n",
    "    line_size = [4, 5]\n",
    "    \n",
    "    df_list = [confirmed_df, death_df]\n",
    "    \n",
    "    fig = go.Figure();\n",
    "    \n",
    "    for i, df in enumerate(df_list):\n",
    "        if country == 'World' or country == 'world':\n",
    "            x_data = np.array(list(df.iloc[:, 22:].columns))\n",
    "            y_data = np.sum(np.asarray(df.iloc[:,4:]),axis = 0)\n",
    "            \n",
    "        else:    \n",
    "            x_data = np.array(list(df.iloc[:, 22:].columns))\n",
    "            y_data = np.sum(np.asarray(df[df['country'].str.lower() == country.lower()].iloc[:,4:]),axis = 0)\n",
    "            \n",
    "        fig.add_trace(go.Scatter(x=x_data, y=y_data, mode='lines+markers',\n",
    "        name=labels[i],\n",
    "        line=dict(color=colors[i], width=line_size[i]),\n",
    "        connectgaps=True,\n",
    "        text = \"Total \" + str(labels[i]) +\": \"+ str(y_data[-1])\n",
    "        ));\n",
    "    \n",
    "    fig.update_layout(\n",
    "        title=\"COVID 19 cases of \" + country,\n",
    "        xaxis_title='Date',\n",
    "        yaxis_title='No. of Confirmed Cases',\n",
    "        margin=dict(l=20, r=20, t=40, b=20),\n",
    "        paper_bgcolor=\"lightgrey\",\n",
    "        width = 800,\n",
    "        \n",
    "    );\n",
    "    \n",
    "    fig.update_yaxes(type=\"linear\")\n",
    "    fig.show();"
   ]
  },
  {
   "cell_type": "code",
   "execution_count": 42,
   "metadata": {},
   "outputs": [
    {
     "data": {
      "application/vnd.jupyter.widget-view+json": {
       "model_id": "fcd09a23f86a425cb01cb09a1ab2c78d",
       "version_major": 2,
       "version_minor": 0
      },
      "text/plain": [
       "interactive(children=(Text(value='world', description='country'), Output()), _dom_classes=('widget-interact',)…"
      ]
     },
     "metadata": {},
     "output_type": "display_data"
    },
    {
     "data": {
      "text/plain": [
       "<function __main__.plot_cases_of_a_country(country)>"
      ]
     },
     "execution_count": 42,
     "metadata": {},
     "output_type": "execute_result"
    }
   ],
   "source": [
    "interact(plot_cases_of_a_country,country='world')"
   ]
  },
  {
   "cell_type": "markdown",
   "metadata": {},
   "source": [
    "### Spread on the world map"
   ]
  },
  {
   "cell_type": "code",
   "execution_count": 43,
   "metadata": {},
   "outputs": [
    {
     "data": {
      "text/html": [
       "<div style=\"width:100%;\"><div style=\"position:relative;width:100%;height:0;padding-bottom:60%;\"><span style=\"color:#565656\">Make this Notebook Trusted to load map: File -> Trust Notebook</span><iframe src=\"about:blank\" style=\"position:absolute;width:100%;height:100%;left:0;top:0;border:none !important;\" data-html=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 onload=\"this.contentDocument.open();this.contentDocument.write(atob(this.getAttribute('data-html')));this.contentDocument.close();\" allowfullscreen webkitallowfullscreen mozallowfullscreen></iframe></div></div>"
      ],
      "text/plain": [
       "<folium.folium.Map at 0x1af33ccac88>"
      ]
     },
     "execution_count": 43,
     "metadata": {},
     "output_type": "execute_result"
    }
   ],
   "source": [
    "# creating world map using Map class\n",
    "world_map = folium.Map(location=[11,0], tiles='Stamen Terrain', zoom_start=2, max_zoom = 6, min_zoom = 2)\n",
    "# iterate over all the rows of confirmed_df to get the lat/long\n",
    "for i in range(0,len(confirmed_df)):\n",
    "    folium.Circle(\n",
    "        location=[confirmed_df.iloc[i]['lat'], confirmed_df.iloc[i]['long']],\n",
    "        fill=True,\n",
    "        radius=(int((np.log(confirmed_df.iloc[i,-1]+1.00001)))+0.2)*50000,\n",
    "        color='red',\n",
    "        fill_color='blue',\n",
    "        popup='Camp Muir'\n",
    "    ).add_to(world_map)\n",
    "    \n",
    "world_map"
   ]
  },
  {
   "cell_type": "markdown",
   "metadata": {},
   "source": [
    "Developed by <a href=\"https://www.jacsons.co.ke/\">jacsons.co.ke</a>"
   ]
  }
 ],
 "metadata": {
  "kernelspec": {
   "display_name": "Python 3",
   "language": "python",
   "name": "python3"
  },
  "language_info": {
   "codemirror_mode": {
    "name": "ipython",
    "version": 3
   },
   "file_extension": ".py",
   "mimetype": "text/x-python",
   "name": "python",
   "nbconvert_exporter": "python",
   "pygments_lexer": "ipython3",
   "version": "3.7.4"
  }
 },
 "nbformat": 4,
 "nbformat_minor": 2
}
