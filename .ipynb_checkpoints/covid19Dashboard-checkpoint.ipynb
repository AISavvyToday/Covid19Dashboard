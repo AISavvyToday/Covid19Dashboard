{
 "cells": [
  {
   "cell_type": "markdown",
   "metadata": {},
   "source": [
    "# Analysis & Visualization of Covid19 World Data (Interactive Dashboard)\n",
    "\n",
    "COVID-19 Data repository by John Hopkins CSSE: https://github.com/CSSEGISandData/COVID-19\n",
    "(There might be delays in data updates hence slight differences in results)\n",
    "<img src=\"COVID-19.png\" width=1000 height=300 />"
   ]
  },
  {
   "cell_type": "code",
   "execution_count": 148,
   "metadata": {},
   "outputs": [],
   "source": [
    "from __future__ import print_function\n",
    "\n",
    "import pandas as pd\n",
    "import numpy as np\n",
    "\n",
    "\n",
    "from ipywidgets import interact, interactive, fixed, interact_manual\n",
    "import ipywidgets as widgets\n",
    "from IPython.core.display import display, HTML\n",
    "from IPython.display import Image\n",
    "\n",
    "\n",
    "import plotly.express as px\n",
    "import seaborn as sns\n",
    "import matplotlib.pyplot as plt\n",
    "import folium\n",
    "import plotly.graph_objects as go\n",
    "plt.style.use('ggplot')"
   ]
  },
  {
   "cell_type": "code",
   "execution_count": 149,
   "metadata": {},
   "outputs": [],
   "source": [
    "# loading data right from the source:\n",
    "\n",
    "death_df = pd.read_csv('https://raw.githubusercontent.com/CSSEGISandData/COVID-19/master/csse_covid_19_data/csse_covid_19_time_series/time_series_covid19_deaths_global.csv')\n",
    "confirmed_df = pd.read_csv('https://raw.githubusercontent.com/CSSEGISandData/COVID-19/master/csse_covid_19_data/csse_covid_19_time_series/time_series_covid19_confirmed_global.csv')\n",
    "recovered_df = pd.read_csv('https://raw.githubusercontent.com/CSSEGISandData/COVID-19/master/csse_covid_19_data/csse_covid_19_time_series/time_series_covid19_recovered_global.csv')\n",
    "country_df = pd.read_csv('https://raw.githubusercontent.com/CSSEGISandData/COVID-19/web-data/data/cases_country.csv')\n"
   ]
  },
  {
   "cell_type": "markdown",
   "metadata": {},
   "source": [
    "### Confirmed Cases Data"
   ]
  },
  {
   "cell_type": "code",
   "execution_count": 150,
   "metadata": {},
   "outputs": [
    {
     "data": {
      "text/html": [
       "<div>\n",
       "<style scoped>\n",
       "    .dataframe tbody tr th:only-of-type {\n",
       "        vertical-align: middle;\n",
       "    }\n",
       "\n",
       "    .dataframe tbody tr th {\n",
       "        vertical-align: top;\n",
       "    }\n",
       "\n",
       "    .dataframe thead th {\n",
       "        text-align: right;\n",
       "    }\n",
       "</style>\n",
       "<table border=\"1\" class=\"dataframe\">\n",
       "  <thead>\n",
       "    <tr style=\"text-align: right;\">\n",
       "      <th></th>\n",
       "      <th>Province/State</th>\n",
       "      <th>Country/Region</th>\n",
       "      <th>Lat</th>\n",
       "      <th>Long</th>\n",
       "      <th>1/22/20</th>\n",
       "      <th>1/23/20</th>\n",
       "      <th>1/24/20</th>\n",
       "      <th>1/25/20</th>\n",
       "      <th>1/26/20</th>\n",
       "      <th>1/27/20</th>\n",
       "      <th>...</th>\n",
       "      <th>5/12/20</th>\n",
       "      <th>5/13/20</th>\n",
       "      <th>5/14/20</th>\n",
       "      <th>5/15/20</th>\n",
       "      <th>5/16/20</th>\n",
       "      <th>5/17/20</th>\n",
       "      <th>5/18/20</th>\n",
       "      <th>5/19/20</th>\n",
       "      <th>5/20/20</th>\n",
       "      <th>5/21/20</th>\n",
       "    </tr>\n",
       "  </thead>\n",
       "  <tbody>\n",
       "    <tr>\n",
       "      <td>0</td>\n",
       "      <td>NaN</td>\n",
       "      <td>Afghanistan</td>\n",
       "      <td>33.0000</td>\n",
       "      <td>65.0000</td>\n",
       "      <td>0</td>\n",
       "      <td>0</td>\n",
       "      <td>0</td>\n",
       "      <td>0</td>\n",
       "      <td>0</td>\n",
       "      <td>0</td>\n",
       "      <td>...</td>\n",
       "      <td>4963</td>\n",
       "      <td>5226</td>\n",
       "      <td>5639</td>\n",
       "      <td>6053</td>\n",
       "      <td>6402</td>\n",
       "      <td>6664</td>\n",
       "      <td>7072</td>\n",
       "      <td>7653</td>\n",
       "      <td>8145</td>\n",
       "      <td>8676</td>\n",
       "    </tr>\n",
       "    <tr>\n",
       "      <td>1</td>\n",
       "      <td>NaN</td>\n",
       "      <td>Albania</td>\n",
       "      <td>41.1533</td>\n",
       "      <td>20.1683</td>\n",
       "      <td>0</td>\n",
       "      <td>0</td>\n",
       "      <td>0</td>\n",
       "      <td>0</td>\n",
       "      <td>0</td>\n",
       "      <td>0</td>\n",
       "      <td>...</td>\n",
       "      <td>876</td>\n",
       "      <td>880</td>\n",
       "      <td>898</td>\n",
       "      <td>916</td>\n",
       "      <td>933</td>\n",
       "      <td>946</td>\n",
       "      <td>948</td>\n",
       "      <td>949</td>\n",
       "      <td>964</td>\n",
       "      <td>969</td>\n",
       "    </tr>\n",
       "    <tr>\n",
       "      <td>2</td>\n",
       "      <td>NaN</td>\n",
       "      <td>Algeria</td>\n",
       "      <td>28.0339</td>\n",
       "      <td>1.6596</td>\n",
       "      <td>0</td>\n",
       "      <td>0</td>\n",
       "      <td>0</td>\n",
       "      <td>0</td>\n",
       "      <td>0</td>\n",
       "      <td>0</td>\n",
       "      <td>...</td>\n",
       "      <td>6067</td>\n",
       "      <td>6253</td>\n",
       "      <td>6442</td>\n",
       "      <td>6629</td>\n",
       "      <td>6821</td>\n",
       "      <td>7019</td>\n",
       "      <td>7201</td>\n",
       "      <td>7377</td>\n",
       "      <td>7542</td>\n",
       "      <td>7728</td>\n",
       "    </tr>\n",
       "    <tr>\n",
       "      <td>3</td>\n",
       "      <td>NaN</td>\n",
       "      <td>Andorra</td>\n",
       "      <td>42.5063</td>\n",
       "      <td>1.5218</td>\n",
       "      <td>0</td>\n",
       "      <td>0</td>\n",
       "      <td>0</td>\n",
       "      <td>0</td>\n",
       "      <td>0</td>\n",
       "      <td>0</td>\n",
       "      <td>...</td>\n",
       "      <td>758</td>\n",
       "      <td>760</td>\n",
       "      <td>761</td>\n",
       "      <td>761</td>\n",
       "      <td>761</td>\n",
       "      <td>761</td>\n",
       "      <td>761</td>\n",
       "      <td>761</td>\n",
       "      <td>762</td>\n",
       "      <td>762</td>\n",
       "    </tr>\n",
       "    <tr>\n",
       "      <td>4</td>\n",
       "      <td>NaN</td>\n",
       "      <td>Angola</td>\n",
       "      <td>-11.2027</td>\n",
       "      <td>17.8739</td>\n",
       "      <td>0</td>\n",
       "      <td>0</td>\n",
       "      <td>0</td>\n",
       "      <td>0</td>\n",
       "      <td>0</td>\n",
       "      <td>0</td>\n",
       "      <td>...</td>\n",
       "      <td>45</td>\n",
       "      <td>45</td>\n",
       "      <td>48</td>\n",
       "      <td>48</td>\n",
       "      <td>48</td>\n",
       "      <td>48</td>\n",
       "      <td>50</td>\n",
       "      <td>52</td>\n",
       "      <td>52</td>\n",
       "      <td>58</td>\n",
       "    </tr>\n",
       "  </tbody>\n",
       "</table>\n",
       "<p>5 rows × 125 columns</p>\n",
       "</div>"
      ],
      "text/plain": [
       "  Province/State Country/Region      Lat     Long  1/22/20  1/23/20  1/24/20  \\\n",
       "0            NaN    Afghanistan  33.0000  65.0000        0        0        0   \n",
       "1            NaN        Albania  41.1533  20.1683        0        0        0   \n",
       "2            NaN        Algeria  28.0339   1.6596        0        0        0   \n",
       "3            NaN        Andorra  42.5063   1.5218        0        0        0   \n",
       "4            NaN         Angola -11.2027  17.8739        0        0        0   \n",
       "\n",
       "   1/25/20  1/26/20  1/27/20  ...  5/12/20  5/13/20  5/14/20  5/15/20  \\\n",
       "0        0        0        0  ...     4963     5226     5639     6053   \n",
       "1        0        0        0  ...      876      880      898      916   \n",
       "2        0        0        0  ...     6067     6253     6442     6629   \n",
       "3        0        0        0  ...      758      760      761      761   \n",
       "4        0        0        0  ...       45       45       48       48   \n",
       "\n",
       "   5/16/20  5/17/20  5/18/20  5/19/20  5/20/20  5/21/20  \n",
       "0     6402     6664     7072     7653     8145     8676  \n",
       "1      933      946      948      949      964      969  \n",
       "2     6821     7019     7201     7377     7542     7728  \n",
       "3      761      761      761      761      762      762  \n",
       "4       48       48       50       52       52       58  \n",
       "\n",
       "[5 rows x 125 columns]"
      ]
     },
     "execution_count": 150,
     "metadata": {},
     "output_type": "execute_result"
    }
   ],
   "source": [
    "confirmed_df.head()"
   ]
  },
  {
   "cell_type": "markdown",
   "metadata": {},
   "source": [
    "### Confirmed Deaths Data"
   ]
  },
  {
   "cell_type": "code",
   "execution_count": 151,
   "metadata": {},
   "outputs": [
    {
     "data": {
      "text/html": [
       "<div>\n",
       "<style scoped>\n",
       "    .dataframe tbody tr th:only-of-type {\n",
       "        vertical-align: middle;\n",
       "    }\n",
       "\n",
       "    .dataframe tbody tr th {\n",
       "        vertical-align: top;\n",
       "    }\n",
       "\n",
       "    .dataframe thead th {\n",
       "        text-align: right;\n",
       "    }\n",
       "</style>\n",
       "<table border=\"1\" class=\"dataframe\">\n",
       "  <thead>\n",
       "    <tr style=\"text-align: right;\">\n",
       "      <th></th>\n",
       "      <th>Province/State</th>\n",
       "      <th>Country/Region</th>\n",
       "      <th>Lat</th>\n",
       "      <th>Long</th>\n",
       "      <th>1/22/20</th>\n",
       "      <th>1/23/20</th>\n",
       "      <th>1/24/20</th>\n",
       "      <th>1/25/20</th>\n",
       "      <th>1/26/20</th>\n",
       "      <th>1/27/20</th>\n",
       "      <th>...</th>\n",
       "      <th>5/12/20</th>\n",
       "      <th>5/13/20</th>\n",
       "      <th>5/14/20</th>\n",
       "      <th>5/15/20</th>\n",
       "      <th>5/16/20</th>\n",
       "      <th>5/17/20</th>\n",
       "      <th>5/18/20</th>\n",
       "      <th>5/19/20</th>\n",
       "      <th>5/20/20</th>\n",
       "      <th>5/21/20</th>\n",
       "    </tr>\n",
       "  </thead>\n",
       "  <tbody>\n",
       "    <tr>\n",
       "      <td>0</td>\n",
       "      <td>NaN</td>\n",
       "      <td>Afghanistan</td>\n",
       "      <td>33.0000</td>\n",
       "      <td>65.0000</td>\n",
       "      <td>0</td>\n",
       "      <td>0</td>\n",
       "      <td>0</td>\n",
       "      <td>0</td>\n",
       "      <td>0</td>\n",
       "      <td>0</td>\n",
       "      <td>...</td>\n",
       "      <td>127</td>\n",
       "      <td>132</td>\n",
       "      <td>136</td>\n",
       "      <td>153</td>\n",
       "      <td>168</td>\n",
       "      <td>169</td>\n",
       "      <td>173</td>\n",
       "      <td>178</td>\n",
       "      <td>187</td>\n",
       "      <td>193</td>\n",
       "    </tr>\n",
       "    <tr>\n",
       "      <td>1</td>\n",
       "      <td>NaN</td>\n",
       "      <td>Albania</td>\n",
       "      <td>41.1533</td>\n",
       "      <td>20.1683</td>\n",
       "      <td>0</td>\n",
       "      <td>0</td>\n",
       "      <td>0</td>\n",
       "      <td>0</td>\n",
       "      <td>0</td>\n",
       "      <td>0</td>\n",
       "      <td>...</td>\n",
       "      <td>31</td>\n",
       "      <td>31</td>\n",
       "      <td>31</td>\n",
       "      <td>31</td>\n",
       "      <td>31</td>\n",
       "      <td>31</td>\n",
       "      <td>31</td>\n",
       "      <td>31</td>\n",
       "      <td>31</td>\n",
       "      <td>31</td>\n",
       "    </tr>\n",
       "    <tr>\n",
       "      <td>2</td>\n",
       "      <td>NaN</td>\n",
       "      <td>Algeria</td>\n",
       "      <td>28.0339</td>\n",
       "      <td>1.6596</td>\n",
       "      <td>0</td>\n",
       "      <td>0</td>\n",
       "      <td>0</td>\n",
       "      <td>0</td>\n",
       "      <td>0</td>\n",
       "      <td>0</td>\n",
       "      <td>...</td>\n",
       "      <td>515</td>\n",
       "      <td>522</td>\n",
       "      <td>529</td>\n",
       "      <td>536</td>\n",
       "      <td>542</td>\n",
       "      <td>548</td>\n",
       "      <td>555</td>\n",
       "      <td>561</td>\n",
       "      <td>568</td>\n",
       "      <td>575</td>\n",
       "    </tr>\n",
       "    <tr>\n",
       "      <td>3</td>\n",
       "      <td>NaN</td>\n",
       "      <td>Andorra</td>\n",
       "      <td>42.5063</td>\n",
       "      <td>1.5218</td>\n",
       "      <td>0</td>\n",
       "      <td>0</td>\n",
       "      <td>0</td>\n",
       "      <td>0</td>\n",
       "      <td>0</td>\n",
       "      <td>0</td>\n",
       "      <td>...</td>\n",
       "      <td>48</td>\n",
       "      <td>49</td>\n",
       "      <td>49</td>\n",
       "      <td>49</td>\n",
       "      <td>51</td>\n",
       "      <td>51</td>\n",
       "      <td>51</td>\n",
       "      <td>51</td>\n",
       "      <td>51</td>\n",
       "      <td>51</td>\n",
       "    </tr>\n",
       "    <tr>\n",
       "      <td>4</td>\n",
       "      <td>NaN</td>\n",
       "      <td>Angola</td>\n",
       "      <td>-11.2027</td>\n",
       "      <td>17.8739</td>\n",
       "      <td>0</td>\n",
       "      <td>0</td>\n",
       "      <td>0</td>\n",
       "      <td>0</td>\n",
       "      <td>0</td>\n",
       "      <td>0</td>\n",
       "      <td>...</td>\n",
       "      <td>2</td>\n",
       "      <td>2</td>\n",
       "      <td>2</td>\n",
       "      <td>2</td>\n",
       "      <td>2</td>\n",
       "      <td>2</td>\n",
       "      <td>3</td>\n",
       "      <td>3</td>\n",
       "      <td>3</td>\n",
       "      <td>3</td>\n",
       "    </tr>\n",
       "  </tbody>\n",
       "</table>\n",
       "<p>5 rows × 125 columns</p>\n",
       "</div>"
      ],
      "text/plain": [
       "  Province/State Country/Region      Lat     Long  1/22/20  1/23/20  1/24/20  \\\n",
       "0            NaN    Afghanistan  33.0000  65.0000        0        0        0   \n",
       "1            NaN        Albania  41.1533  20.1683        0        0        0   \n",
       "2            NaN        Algeria  28.0339   1.6596        0        0        0   \n",
       "3            NaN        Andorra  42.5063   1.5218        0        0        0   \n",
       "4            NaN         Angola -11.2027  17.8739        0        0        0   \n",
       "\n",
       "   1/25/20  1/26/20  1/27/20  ...  5/12/20  5/13/20  5/14/20  5/15/20  \\\n",
       "0        0        0        0  ...      127      132      136      153   \n",
       "1        0        0        0  ...       31       31       31       31   \n",
       "2        0        0        0  ...      515      522      529      536   \n",
       "3        0        0        0  ...       48       49       49       49   \n",
       "4        0        0        0  ...        2        2        2        2   \n",
       "\n",
       "   5/16/20  5/17/20  5/18/20  5/19/20  5/20/20  5/21/20  \n",
       "0      168      169      173      178      187      193  \n",
       "1       31       31       31       31       31       31  \n",
       "2      542      548      555      561      568      575  \n",
       "3       51       51       51       51       51       51  \n",
       "4        2        2        3        3        3        3  \n",
       "\n",
       "[5 rows x 125 columns]"
      ]
     },
     "execution_count": 151,
     "metadata": {},
     "output_type": "execute_result"
    }
   ],
   "source": [
    "death_df.head()"
   ]
  },
  {
   "cell_type": "markdown",
   "metadata": {},
   "source": [
    "### Recoveries Data"
   ]
  },
  {
   "cell_type": "code",
   "execution_count": 152,
   "metadata": {},
   "outputs": [
    {
     "data": {
      "text/html": [
       "<div>\n",
       "<style scoped>\n",
       "    .dataframe tbody tr th:only-of-type {\n",
       "        vertical-align: middle;\n",
       "    }\n",
       "\n",
       "    .dataframe tbody tr th {\n",
       "        vertical-align: top;\n",
       "    }\n",
       "\n",
       "    .dataframe thead th {\n",
       "        text-align: right;\n",
       "    }\n",
       "</style>\n",
       "<table border=\"1\" class=\"dataframe\">\n",
       "  <thead>\n",
       "    <tr style=\"text-align: right;\">\n",
       "      <th></th>\n",
       "      <th>Province/State</th>\n",
       "      <th>Country/Region</th>\n",
       "      <th>Lat</th>\n",
       "      <th>Long</th>\n",
       "      <th>1/22/20</th>\n",
       "      <th>1/23/20</th>\n",
       "      <th>1/24/20</th>\n",
       "      <th>1/25/20</th>\n",
       "      <th>1/26/20</th>\n",
       "      <th>1/27/20</th>\n",
       "      <th>...</th>\n",
       "      <th>5/12/20</th>\n",
       "      <th>5/13/20</th>\n",
       "      <th>5/14/20</th>\n",
       "      <th>5/15/20</th>\n",
       "      <th>5/16/20</th>\n",
       "      <th>5/17/20</th>\n",
       "      <th>5/18/20</th>\n",
       "      <th>5/19/20</th>\n",
       "      <th>5/20/20</th>\n",
       "      <th>5/21/20</th>\n",
       "    </tr>\n",
       "  </thead>\n",
       "  <tbody>\n",
       "    <tr>\n",
       "      <td>0</td>\n",
       "      <td>NaN</td>\n",
       "      <td>Afghanistan</td>\n",
       "      <td>33.0000</td>\n",
       "      <td>65.0000</td>\n",
       "      <td>0</td>\n",
       "      <td>0</td>\n",
       "      <td>0</td>\n",
       "      <td>0</td>\n",
       "      <td>0</td>\n",
       "      <td>0</td>\n",
       "      <td>...</td>\n",
       "      <td>610</td>\n",
       "      <td>648</td>\n",
       "      <td>691</td>\n",
       "      <td>745</td>\n",
       "      <td>745</td>\n",
       "      <td>778</td>\n",
       "      <td>801</td>\n",
       "      <td>850</td>\n",
       "      <td>930</td>\n",
       "      <td>938</td>\n",
       "    </tr>\n",
       "    <tr>\n",
       "      <td>1</td>\n",
       "      <td>NaN</td>\n",
       "      <td>Albania</td>\n",
       "      <td>41.1533</td>\n",
       "      <td>20.1683</td>\n",
       "      <td>0</td>\n",
       "      <td>0</td>\n",
       "      <td>0</td>\n",
       "      <td>0</td>\n",
       "      <td>0</td>\n",
       "      <td>0</td>\n",
       "      <td>...</td>\n",
       "      <td>682</td>\n",
       "      <td>688</td>\n",
       "      <td>694</td>\n",
       "      <td>705</td>\n",
       "      <td>714</td>\n",
       "      <td>715</td>\n",
       "      <td>727</td>\n",
       "      <td>742</td>\n",
       "      <td>758</td>\n",
       "      <td>771</td>\n",
       "    </tr>\n",
       "    <tr>\n",
       "      <td>2</td>\n",
       "      <td>NaN</td>\n",
       "      <td>Algeria</td>\n",
       "      <td>28.0339</td>\n",
       "      <td>1.6596</td>\n",
       "      <td>0</td>\n",
       "      <td>0</td>\n",
       "      <td>0</td>\n",
       "      <td>0</td>\n",
       "      <td>0</td>\n",
       "      <td>0</td>\n",
       "      <td>...</td>\n",
       "      <td>2998</td>\n",
       "      <td>3058</td>\n",
       "      <td>3158</td>\n",
       "      <td>3271</td>\n",
       "      <td>3409</td>\n",
       "      <td>3507</td>\n",
       "      <td>3625</td>\n",
       "      <td>3746</td>\n",
       "      <td>3968</td>\n",
       "      <td>4062</td>\n",
       "    </tr>\n",
       "    <tr>\n",
       "      <td>3</td>\n",
       "      <td>NaN</td>\n",
       "      <td>Andorra</td>\n",
       "      <td>42.5063</td>\n",
       "      <td>1.5218</td>\n",
       "      <td>0</td>\n",
       "      <td>0</td>\n",
       "      <td>0</td>\n",
       "      <td>0</td>\n",
       "      <td>0</td>\n",
       "      <td>0</td>\n",
       "      <td>...</td>\n",
       "      <td>568</td>\n",
       "      <td>576</td>\n",
       "      <td>596</td>\n",
       "      <td>604</td>\n",
       "      <td>615</td>\n",
       "      <td>617</td>\n",
       "      <td>624</td>\n",
       "      <td>628</td>\n",
       "      <td>639</td>\n",
       "      <td>639</td>\n",
       "    </tr>\n",
       "    <tr>\n",
       "      <td>4</td>\n",
       "      <td>NaN</td>\n",
       "      <td>Angola</td>\n",
       "      <td>-11.2027</td>\n",
       "      <td>17.8739</td>\n",
       "      <td>0</td>\n",
       "      <td>0</td>\n",
       "      <td>0</td>\n",
       "      <td>0</td>\n",
       "      <td>0</td>\n",
       "      <td>0</td>\n",
       "      <td>...</td>\n",
       "      <td>13</td>\n",
       "      <td>14</td>\n",
       "      <td>14</td>\n",
       "      <td>17</td>\n",
       "      <td>17</td>\n",
       "      <td>17</td>\n",
       "      <td>17</td>\n",
       "      <td>17</td>\n",
       "      <td>17</td>\n",
       "      <td>17</td>\n",
       "    </tr>\n",
       "  </tbody>\n",
       "</table>\n",
       "<p>5 rows × 125 columns</p>\n",
       "</div>"
      ],
      "text/plain": [
       "  Province/State Country/Region      Lat     Long  1/22/20  1/23/20  1/24/20  \\\n",
       "0            NaN    Afghanistan  33.0000  65.0000        0        0        0   \n",
       "1            NaN        Albania  41.1533  20.1683        0        0        0   \n",
       "2            NaN        Algeria  28.0339   1.6596        0        0        0   \n",
       "3            NaN        Andorra  42.5063   1.5218        0        0        0   \n",
       "4            NaN         Angola -11.2027  17.8739        0        0        0   \n",
       "\n",
       "   1/25/20  1/26/20  1/27/20  ...  5/12/20  5/13/20  5/14/20  5/15/20  \\\n",
       "0        0        0        0  ...      610      648      691      745   \n",
       "1        0        0        0  ...      682      688      694      705   \n",
       "2        0        0        0  ...     2998     3058     3158     3271   \n",
       "3        0        0        0  ...      568      576      596      604   \n",
       "4        0        0        0  ...       13       14       14       17   \n",
       "\n",
       "   5/16/20  5/17/20  5/18/20  5/19/20  5/20/20  5/21/20  \n",
       "0      745      778      801      850      930      938  \n",
       "1      714      715      727      742      758      771  \n",
       "2     3409     3507     3625     3746     3968     4062  \n",
       "3      615      617      624      628      639      639  \n",
       "4       17       17       17       17       17       17  \n",
       "\n",
       "[5 rows x 125 columns]"
      ]
     },
     "execution_count": 152,
     "metadata": {},
     "output_type": "execute_result"
    }
   ],
   "source": [
    "recovered_df.head()"
   ]
  },
  {
   "cell_type": "code",
   "execution_count": 153,
   "metadata": {},
   "outputs": [],
   "source": [
    "# renaming the df column names to lowercase\n",
    "country_df.columns = map(str.lower, country_df.columns)\n",
    "confirmed_df.columns = map(str.lower, confirmed_df.columns)\n",
    "death_df.columns = map(str.lower, death_df.columns)\n",
    "recovered_df.columns = map(str.lower, recovered_df.columns)\n",
    "\n",
    "# changing province/state to state and country/region to country\n",
    "confirmed_df = confirmed_df.rename(columns={'province/state': 'state', 'country/region': 'country'})\n",
    "recovered_df = confirmed_df.rename(columns={'province/state': 'state', 'country/region': 'country'})\n",
    "death_df = death_df.rename(columns={'province/state': 'state', 'country/region': 'country'})\n",
    "country_df = country_df.rename(columns={'country_region': 'country'})"
   ]
  },
  {
   "cell_type": "code",
   "execution_count": 154,
   "metadata": {},
   "outputs": [],
   "source": [
    "# total number of confirmed, death and recovered cases\n",
    "confirmed_total = int(country_df['confirmed'].sum())\n",
    "deaths_total = int(country_df['deaths'].sum())\n",
    "recovered_total = int(country_df['recovered'].sum())\n",
    "active_total = int(country_df['active'].sum())"
   ]
  },
  {
   "cell_type": "code",
   "execution_count": 155,
   "metadata": {},
   "outputs": [
    {
     "name": "stdout",
     "output_type": "stream",
     "text": [
      "Total confirmed cases:  5168433\n",
      "\n",
      "\n",
      "Total recoveries:  1990963\n",
      "\n",
      "\n",
      "Total deaths:  335936\n",
      "\n",
      "\n",
      "Total active cases:  2836301\n"
     ]
    }
   ],
   "source": [
    "print('Total confirmed cases: ',confirmed_total)\n",
    "print('\\n')\n",
    "print('Total recoveries: ',recovered_total)\n",
    "print('\\n')\n",
    "print('Total deaths: ',deaths_total)\n",
    "print('\\n')\n",
    "print('Total active cases: ',active_total)"
   ]
  },
  {
   "cell_type": "code",
   "execution_count": 156,
   "metadata": {},
   "outputs": [],
   "source": [
    "#function to highlight required columns\n",
    "def highlight_col(x):\n",
    "    r = 'background-color: red'\n",
    "    p = 'background-color: purple'\n",
    "    g = 'background-color: grey'\n",
    "    df1 = pd.DataFrame('', index=x.index, columns=x.columns)\n",
    "    df1.iloc[:, 4] = p\n",
    "    df1.iloc[:, 5] = r\n",
    "    df1.iloc[:, 6] = g\n",
    "    return df1"
   ]
  },
  {
   "cell_type": "markdown",
   "metadata": {},
   "source": [
    "### Top confirmed cases by country; input number of countries you want displayed"
   ]
  },
  {
   "cell_type": "code",
   "execution_count": 157,
   "metadata": {},
   "outputs": [
    {
     "data": {
      "application/vnd.jupyter.widget-view+json": {
       "model_id": "a3f0e5fa95524686a20adf314231bf52",
       "version_major": 2,
       "version_minor": 0
      },
      "text/plain": [
       "interactive(children=(Text(value='10', description='n'), Output()), _dom_classes=('widget-interact',))"
      ]
     },
     "metadata": {},
     "output_type": "display_data"
    },
    {
     "data": {
      "text/plain": [
       "<function __main__.show_latest_cases(n)>"
      ]
     },
     "execution_count": 157,
     "metadata": {},
     "output_type": "execute_result"
    }
   ],
   "source": [
    "#function to display number of worst hit countries you want to see\n",
    "def show_latest_cases(n):\n",
    "    n = int(n)\n",
    "    return country_df.sort_values('confirmed',ascending= False).reset_index(drop=True).head(n).style.apply(highlight_col, axis=None)\n",
    "\n",
    "interact(show_latest_cases, n='10')"
   ]
  },
  {
   "cell_type": "markdown",
   "metadata": {},
   "source": [
    "### Worst-hit countries in terms of cases; use slider to change the number of countries you want on display"
   ]
  },
  {
   "cell_type": "code",
   "execution_count": 158,
   "metadata": {},
   "outputs": [],
   "source": [
    "sorted_country_df=country_df.sort_values('confirmed',ascending=False)"
   ]
  },
  {
   "cell_type": "code",
   "execution_count": 159,
   "metadata": {},
   "outputs": [
    {
     "data": {
      "application/vnd.jupyter.widget-view+json": {
       "model_id": "2dbb74ece0044aadad1bf9421b2bc81b",
       "version_major": 2,
       "version_minor": 0
      },
      "text/plain": [
       "interactive(children=(IntSlider(value=10, description='n', max=30, min=-10), Output()), _dom_classes=('widget-…"
      ]
     },
     "metadata": {},
     "output_type": "display_data"
    },
    {
     "data": {
      "text/plain": [
       "<function __main__.bubble_chart(n)>"
      ]
     },
     "execution_count": 159,
     "metadata": {},
     "output_type": "execute_result"
    }
   ],
   "source": [
    "def bubble_chart(n):\n",
    "    fig = px.scatter(sorted_country_df.head(n), x=\"country\", y=\"confirmed\", size=\"confirmed\", color=\"country\",\n",
    "               hover_name=\"country\", size_max=60)\n",
    "    fig.update_layout(\n",
    "    title=str(n) +\" Worst hit countries (Cases)\",\n",
    "    xaxis_title=\"Countries\",\n",
    "    yaxis_title=\"Confirmed Cases\",\n",
    "    width = 900\n",
    "    )\n",
    "    fig.show()\n",
    "\n",
    "interact(bubble_chart, n=10)"
   ]
  },
  {
   "cell_type": "markdown",
   "metadata": {},
   "source": [
    "### Countries with the highest number of deaths"
   ]
  },
  {
   "cell_type": "code",
   "execution_count": 160,
   "metadata": {},
   "outputs": [],
   "source": [
    "sorted_country_df.sort_values('deaths',ascending=False,inplace=True)\n",
    "sorted_country_df=sorted_country_df.reset_index(drop=True)"
   ]
  },
  {
   "cell_type": "code",
   "execution_count": 161,
   "metadata": {},
   "outputs": [
    {
     "data": {
      "application/vnd.plotly.v1+json": {
       "config": {
        "plotlyServerURL": "https://plot.ly"
       },
       "data": [
        {
         "alignmentgroup": "True",
         "hovertemplate": "country=%{x}<br>deaths=%{y}<extra></extra>",
         "legendgroup": "",
         "marker": {
          "color": "maroon"
         },
         "name": "",
         "offsetgroup": "",
         "orientation": "v",
         "showlegend": false,
         "textposition": "auto",
         "type": "bar",
         "x": [
          "US",
          "United Kingdom",
          "Italy",
          "Spain",
          "France",
          "Brazil",
          "Belgium",
          "Germany",
          "Iran",
          "Mexico"
         ],
         "xaxis": "x",
         "y": [
          95490,
          36475,
          32616,
          28628,
          28218,
          20047,
          9212,
          8228,
          7300,
          6510
         ],
         "yaxis": "y"
        }
       ],
       "layout": {
        "barmode": "relative",
        "height": 500,
        "legend": {
         "tracegroupgap": 0
        },
        "template": {
         "data": {
          "bar": [
           {
            "error_x": {
             "color": "#2a3f5f"
            },
            "error_y": {
             "color": "#2a3f5f"
            },
            "marker": {
             "line": {
              "color": "#E5ECF6",
              "width": 0.5
             }
            },
            "type": "bar"
           }
          ],
          "barpolar": [
           {
            "marker": {
             "line": {
              "color": "#E5ECF6",
              "width": 0.5
             }
            },
            "type": "barpolar"
           }
          ],
          "carpet": [
           {
            "aaxis": {
             "endlinecolor": "#2a3f5f",
             "gridcolor": "white",
             "linecolor": "white",
             "minorgridcolor": "white",
             "startlinecolor": "#2a3f5f"
            },
            "baxis": {
             "endlinecolor": "#2a3f5f",
             "gridcolor": "white",
             "linecolor": "white",
             "minorgridcolor": "white",
             "startlinecolor": "#2a3f5f"
            },
            "type": "carpet"
           }
          ],
          "choropleth": [
           {
            "colorbar": {
             "outlinewidth": 0,
             "ticks": ""
            },
            "type": "choropleth"
           }
          ],
          "contour": [
           {
            "colorbar": {
             "outlinewidth": 0,
             "ticks": ""
            },
            "colorscale": [
             [
              0,
              "#0d0887"
             ],
             [
              0.1111111111111111,
              "#46039f"
             ],
             [
              0.2222222222222222,
              "#7201a8"
             ],
             [
              0.3333333333333333,
              "#9c179e"
             ],
             [
              0.4444444444444444,
              "#bd3786"
             ],
             [
              0.5555555555555556,
              "#d8576b"
             ],
             [
              0.6666666666666666,
              "#ed7953"
             ],
             [
              0.7777777777777778,
              "#fb9f3a"
             ],
             [
              0.8888888888888888,
              "#fdca26"
             ],
             [
              1,
              "#f0f921"
             ]
            ],
            "type": "contour"
           }
          ],
          "contourcarpet": [
           {
            "colorbar": {
             "outlinewidth": 0,
             "ticks": ""
            },
            "type": "contourcarpet"
           }
          ],
          "heatmap": [
           {
            "colorbar": {
             "outlinewidth": 0,
             "ticks": ""
            },
            "colorscale": [
             [
              0,
              "#0d0887"
             ],
             [
              0.1111111111111111,
              "#46039f"
             ],
             [
              0.2222222222222222,
              "#7201a8"
             ],
             [
              0.3333333333333333,
              "#9c179e"
             ],
             [
              0.4444444444444444,
              "#bd3786"
             ],
             [
              0.5555555555555556,
              "#d8576b"
             ],
             [
              0.6666666666666666,
              "#ed7953"
             ],
             [
              0.7777777777777778,
              "#fb9f3a"
             ],
             [
              0.8888888888888888,
              "#fdca26"
             ],
             [
              1,
              "#f0f921"
             ]
            ],
            "type": "heatmap"
           }
          ],
          "heatmapgl": [
           {
            "colorbar": {
             "outlinewidth": 0,
             "ticks": ""
            },
            "colorscale": [
             [
              0,
              "#0d0887"
             ],
             [
              0.1111111111111111,
              "#46039f"
             ],
             [
              0.2222222222222222,
              "#7201a8"
             ],
             [
              0.3333333333333333,
              "#9c179e"
             ],
             [
              0.4444444444444444,
              "#bd3786"
             ],
             [
              0.5555555555555556,
              "#d8576b"
             ],
             [
              0.6666666666666666,
              "#ed7953"
             ],
             [
              0.7777777777777778,
              "#fb9f3a"
             ],
             [
              0.8888888888888888,
              "#fdca26"
             ],
             [
              1,
              "#f0f921"
             ]
            ],
            "type": "heatmapgl"
           }
          ],
          "histogram": [
           {
            "marker": {
             "colorbar": {
              "outlinewidth": 0,
              "ticks": ""
             }
            },
            "type": "histogram"
           }
          ],
          "histogram2d": [
           {
            "colorbar": {
             "outlinewidth": 0,
             "ticks": ""
            },
            "colorscale": [
             [
              0,
              "#0d0887"
             ],
             [
              0.1111111111111111,
              "#46039f"
             ],
             [
              0.2222222222222222,
              "#7201a8"
             ],
             [
              0.3333333333333333,
              "#9c179e"
             ],
             [
              0.4444444444444444,
              "#bd3786"
             ],
             [
              0.5555555555555556,
              "#d8576b"
             ],
             [
              0.6666666666666666,
              "#ed7953"
             ],
             [
              0.7777777777777778,
              "#fb9f3a"
             ],
             [
              0.8888888888888888,
              "#fdca26"
             ],
             [
              1,
              "#f0f921"
             ]
            ],
            "type": "histogram2d"
           }
          ],
          "histogram2dcontour": [
           {
            "colorbar": {
             "outlinewidth": 0,
             "ticks": ""
            },
            "colorscale": [
             [
              0,
              "#0d0887"
             ],
             [
              0.1111111111111111,
              "#46039f"
             ],
             [
              0.2222222222222222,
              "#7201a8"
             ],
             [
              0.3333333333333333,
              "#9c179e"
             ],
             [
              0.4444444444444444,
              "#bd3786"
             ],
             [
              0.5555555555555556,
              "#d8576b"
             ],
             [
              0.6666666666666666,
              "#ed7953"
             ],
             [
              0.7777777777777778,
              "#fb9f3a"
             ],
             [
              0.8888888888888888,
              "#fdca26"
             ],
             [
              1,
              "#f0f921"
             ]
            ],
            "type": "histogram2dcontour"
           }
          ],
          "mesh3d": [
           {
            "colorbar": {
             "outlinewidth": 0,
             "ticks": ""
            },
            "type": "mesh3d"
           }
          ],
          "parcoords": [
           {
            "line": {
             "colorbar": {
              "outlinewidth": 0,
              "ticks": ""
             }
            },
            "type": "parcoords"
           }
          ],
          "pie": [
           {
            "automargin": true,
            "type": "pie"
           }
          ],
          "scatter": [
           {
            "marker": {
             "colorbar": {
              "outlinewidth": 0,
              "ticks": ""
             }
            },
            "type": "scatter"
           }
          ],
          "scatter3d": [
           {
            "line": {
             "colorbar": {
              "outlinewidth": 0,
              "ticks": ""
             }
            },
            "marker": {
             "colorbar": {
              "outlinewidth": 0,
              "ticks": ""
             }
            },
            "type": "scatter3d"
           }
          ],
          "scattercarpet": [
           {
            "marker": {
             "colorbar": {
              "outlinewidth": 0,
              "ticks": ""
             }
            },
            "type": "scattercarpet"
           }
          ],
          "scattergeo": [
           {
            "marker": {
             "colorbar": {
              "outlinewidth": 0,
              "ticks": ""
             }
            },
            "type": "scattergeo"
           }
          ],
          "scattergl": [
           {
            "marker": {
             "colorbar": {
              "outlinewidth": 0,
              "ticks": ""
             }
            },
            "type": "scattergl"
           }
          ],
          "scattermapbox": [
           {
            "marker": {
             "colorbar": {
              "outlinewidth": 0,
              "ticks": ""
             }
            },
            "type": "scattermapbox"
           }
          ],
          "scatterpolar": [
           {
            "marker": {
             "colorbar": {
              "outlinewidth": 0,
              "ticks": ""
             }
            },
            "type": "scatterpolar"
           }
          ],
          "scatterpolargl": [
           {
            "marker": {
             "colorbar": {
              "outlinewidth": 0,
              "ticks": ""
             }
            },
            "type": "scatterpolargl"
           }
          ],
          "scatterternary": [
           {
            "marker": {
             "colorbar": {
              "outlinewidth": 0,
              "ticks": ""
             }
            },
            "type": "scatterternary"
           }
          ],
          "surface": [
           {
            "colorbar": {
             "outlinewidth": 0,
             "ticks": ""
            },
            "colorscale": [
             [
              0,
              "#0d0887"
             ],
             [
              0.1111111111111111,
              "#46039f"
             ],
             [
              0.2222222222222222,
              "#7201a8"
             ],
             [
              0.3333333333333333,
              "#9c179e"
             ],
             [
              0.4444444444444444,
              "#bd3786"
             ],
             [
              0.5555555555555556,
              "#d8576b"
             ],
             [
              0.6666666666666666,
              "#ed7953"
             ],
             [
              0.7777777777777778,
              "#fb9f3a"
             ],
             [
              0.8888888888888888,
              "#fdca26"
             ],
             [
              1,
              "#f0f921"
             ]
            ],
            "type": "surface"
           }
          ],
          "table": [
           {
            "cells": {
             "fill": {
              "color": "#EBF0F8"
             },
             "line": {
              "color": "white"
             }
            },
            "header": {
             "fill": {
              "color": "#C8D4E3"
             },
             "line": {
              "color": "white"
             }
            },
            "type": "table"
           }
          ]
         },
         "layout": {
          "annotationdefaults": {
           "arrowcolor": "#2a3f5f",
           "arrowhead": 0,
           "arrowwidth": 1
          },
          "coloraxis": {
           "colorbar": {
            "outlinewidth": 0,
            "ticks": ""
           }
          },
          "colorscale": {
           "diverging": [
            [
             0,
             "#8e0152"
            ],
            [
             0.1,
             "#c51b7d"
            ],
            [
             0.2,
             "#de77ae"
            ],
            [
             0.3,
             "#f1b6da"
            ],
            [
             0.4,
             "#fde0ef"
            ],
            [
             0.5,
             "#f7f7f7"
            ],
            [
             0.6,
             "#e6f5d0"
            ],
            [
             0.7,
             "#b8e186"
            ],
            [
             0.8,
             "#7fbc41"
            ],
            [
             0.9,
             "#4d9221"
            ],
            [
             1,
             "#276419"
            ]
           ],
           "sequential": [
            [
             0,
             "#0d0887"
            ],
            [
             0.1111111111111111,
             "#46039f"
            ],
            [
             0.2222222222222222,
             "#7201a8"
            ],
            [
             0.3333333333333333,
             "#9c179e"
            ],
            [
             0.4444444444444444,
             "#bd3786"
            ],
            [
             0.5555555555555556,
             "#d8576b"
            ],
            [
             0.6666666666666666,
             "#ed7953"
            ],
            [
             0.7777777777777778,
             "#fb9f3a"
            ],
            [
             0.8888888888888888,
             "#fdca26"
            ],
            [
             1,
             "#f0f921"
            ]
           ],
           "sequentialminus": [
            [
             0,
             "#0d0887"
            ],
            [
             0.1111111111111111,
             "#46039f"
            ],
            [
             0.2222222222222222,
             "#7201a8"
            ],
            [
             0.3333333333333333,
             "#9c179e"
            ],
            [
             0.4444444444444444,
             "#bd3786"
            ],
            [
             0.5555555555555556,
             "#d8576b"
            ],
            [
             0.6666666666666666,
             "#ed7953"
            ],
            [
             0.7777777777777778,
             "#fb9f3a"
            ],
            [
             0.8888888888888888,
             "#fdca26"
            ],
            [
             1,
             "#f0f921"
            ]
           ]
          },
          "colorway": [
           "#636efa",
           "#EF553B",
           "#00cc96",
           "#ab63fa",
           "#FFA15A",
           "#19d3f3",
           "#FF6692",
           "#B6E880",
           "#FF97FF",
           "#FECB52"
          ],
          "font": {
           "color": "#2a3f5f"
          },
          "geo": {
           "bgcolor": "white",
           "lakecolor": "white",
           "landcolor": "#E5ECF6",
           "showlakes": true,
           "showland": true,
           "subunitcolor": "white"
          },
          "hoverlabel": {
           "align": "left"
          },
          "hovermode": "closest",
          "mapbox": {
           "style": "light"
          },
          "paper_bgcolor": "white",
          "plot_bgcolor": "#E5ECF6",
          "polar": {
           "angularaxis": {
            "gridcolor": "white",
            "linecolor": "white",
            "ticks": ""
           },
           "bgcolor": "#E5ECF6",
           "radialaxis": {
            "gridcolor": "white",
            "linecolor": "white",
            "ticks": ""
           }
          },
          "scene": {
           "xaxis": {
            "backgroundcolor": "#E5ECF6",
            "gridcolor": "white",
            "gridwidth": 2,
            "linecolor": "white",
            "showbackground": true,
            "ticks": "",
            "zerolinecolor": "white"
           },
           "yaxis": {
            "backgroundcolor": "#E5ECF6",
            "gridcolor": "white",
            "gridwidth": 2,
            "linecolor": "white",
            "showbackground": true,
            "ticks": "",
            "zerolinecolor": "white"
           },
           "zaxis": {
            "backgroundcolor": "#E5ECF6",
            "gridcolor": "white",
            "gridwidth": 2,
            "linecolor": "white",
            "showbackground": true,
            "ticks": "",
            "zerolinecolor": "white"
           }
          },
          "shapedefaults": {
           "line": {
            "color": "#2a3f5f"
           }
          },
          "ternary": {
           "aaxis": {
            "gridcolor": "white",
            "linecolor": "white",
            "ticks": ""
           },
           "baxis": {
            "gridcolor": "white",
            "linecolor": "white",
            "ticks": ""
           },
           "bgcolor": "#E5ECF6",
           "caxis": {
            "gridcolor": "white",
            "linecolor": "white",
            "ticks": ""
           }
          },
          "title": {
           "x": 0.05
          },
          "xaxis": {
           "automargin": true,
           "gridcolor": "white",
           "linecolor": "white",
           "ticks": "",
           "title": {
            "standoff": 15
           },
           "zerolinecolor": "white",
           "zerolinewidth": 2
          },
          "yaxis": {
           "automargin": true,
           "gridcolor": "white",
           "linecolor": "white",
           "ticks": "",
           "title": {
            "standoff": 15
           },
           "zerolinecolor": "white",
           "zerolinewidth": 2
          }
         }
        },
        "title": {
         "text": "Countries with highest number of deaths"
        },
        "width": 1000,
        "xaxis": {
         "anchor": "y",
         "domain": [
          0,
          1
         ],
         "title": {
          "text": "country"
         }
        },
        "yaxis": {
         "anchor": "x",
         "domain": [
          0,
          1
         ],
         "title": {
          "text": "deaths"
         }
        }
       }
      },
      "text/html": [
       "<div>\n",
       "        \n",
       "        \n",
       "            <div id=\"2753be67-9e8c-437f-a583-72576e62c541\" class=\"plotly-graph-div\" style=\"height:500px; width:1000px;\"></div>\n",
       "            <script type=\"text/javascript\">\n",
       "                require([\"plotly\"], function(Plotly) {\n",
       "                    window.PLOTLYENV=window.PLOTLYENV || {};\n",
       "                    \n",
       "                if (document.getElementById(\"2753be67-9e8c-437f-a583-72576e62c541\")) {\n",
       "                    Plotly.newPlot(\n",
       "                        '2753be67-9e8c-437f-a583-72576e62c541',\n",
       "                        [{\"alignmentgroup\": \"True\", \"hovertemplate\": \"country=%{x}<br>deaths=%{y}<extra></extra>\", \"legendgroup\": \"\", \"marker\": {\"color\": \"maroon\"}, \"name\": \"\", \"offsetgroup\": \"\", \"orientation\": \"v\", \"showlegend\": false, \"textposition\": \"auto\", \"type\": \"bar\", \"x\": [\"US\", \"United Kingdom\", \"Italy\", \"Spain\", \"France\", \"Brazil\", \"Belgium\", \"Germany\", \"Iran\", \"Mexico\"], \"xaxis\": \"x\", \"y\": [95490, 36475, 32616, 28628, 28218, 20047, 9212, 8228, 7300, 6510], \"yaxis\": \"y\"}],\n",
       "                        {\"barmode\": \"relative\", \"height\": 500, \"legend\": {\"tracegroupgap\": 0}, \"template\": {\"data\": {\"bar\": [{\"error_x\": {\"color\": \"#2a3f5f\"}, \"error_y\": {\"color\": \"#2a3f5f\"}, \"marker\": {\"line\": {\"color\": \"#E5ECF6\", \"width\": 0.5}}, \"type\": \"bar\"}], \"barpolar\": [{\"marker\": {\"line\": {\"color\": \"#E5ECF6\", \"width\": 0.5}}, \"type\": \"barpolar\"}], \"carpet\": [{\"aaxis\": {\"endlinecolor\": \"#2a3f5f\", \"gridcolor\": \"white\", \"linecolor\": \"white\", \"minorgridcolor\": \"white\", \"startlinecolor\": \"#2a3f5f\"}, \"baxis\": {\"endlinecolor\": \"#2a3f5f\", \"gridcolor\": \"white\", \"linecolor\": \"white\", \"minorgridcolor\": \"white\", \"startlinecolor\": \"#2a3f5f\"}, \"type\": \"carpet\"}], \"choropleth\": [{\"colorbar\": {\"outlinewidth\": 0, \"ticks\": \"\"}, \"type\": \"choropleth\"}], \"contour\": [{\"colorbar\": {\"outlinewidth\": 0, \"ticks\": \"\"}, \"colorscale\": [[0.0, \"#0d0887\"], [0.1111111111111111, \"#46039f\"], [0.2222222222222222, \"#7201a8\"], [0.3333333333333333, \"#9c179e\"], [0.4444444444444444, \"#bd3786\"], [0.5555555555555556, \"#d8576b\"], [0.6666666666666666, \"#ed7953\"], [0.7777777777777778, \"#fb9f3a\"], [0.8888888888888888, \"#fdca26\"], [1.0, \"#f0f921\"]], \"type\": \"contour\"}], \"contourcarpet\": [{\"colorbar\": {\"outlinewidth\": 0, \"ticks\": \"\"}, \"type\": \"contourcarpet\"}], \"heatmap\": [{\"colorbar\": {\"outlinewidth\": 0, \"ticks\": \"\"}, \"colorscale\": [[0.0, \"#0d0887\"], [0.1111111111111111, \"#46039f\"], [0.2222222222222222, \"#7201a8\"], [0.3333333333333333, \"#9c179e\"], [0.4444444444444444, \"#bd3786\"], [0.5555555555555556, \"#d8576b\"], [0.6666666666666666, \"#ed7953\"], [0.7777777777777778, \"#fb9f3a\"], [0.8888888888888888, \"#fdca26\"], [1.0, \"#f0f921\"]], \"type\": \"heatmap\"}], \"heatmapgl\": [{\"colorbar\": {\"outlinewidth\": 0, \"ticks\": \"\"}, \"colorscale\": [[0.0, \"#0d0887\"], [0.1111111111111111, \"#46039f\"], [0.2222222222222222, \"#7201a8\"], [0.3333333333333333, \"#9c179e\"], [0.4444444444444444, \"#bd3786\"], [0.5555555555555556, \"#d8576b\"], [0.6666666666666666, \"#ed7953\"], [0.7777777777777778, \"#fb9f3a\"], [0.8888888888888888, \"#fdca26\"], [1.0, \"#f0f921\"]], \"type\": \"heatmapgl\"}], \"histogram\": [{\"marker\": {\"colorbar\": {\"outlinewidth\": 0, \"ticks\": \"\"}}, \"type\": \"histogram\"}], \"histogram2d\": [{\"colorbar\": {\"outlinewidth\": 0, \"ticks\": \"\"}, \"colorscale\": [[0.0, \"#0d0887\"], [0.1111111111111111, \"#46039f\"], [0.2222222222222222, \"#7201a8\"], [0.3333333333333333, \"#9c179e\"], [0.4444444444444444, \"#bd3786\"], [0.5555555555555556, \"#d8576b\"], [0.6666666666666666, \"#ed7953\"], [0.7777777777777778, \"#fb9f3a\"], [0.8888888888888888, \"#fdca26\"], [1.0, \"#f0f921\"]], \"type\": \"histogram2d\"}], \"histogram2dcontour\": [{\"colorbar\": {\"outlinewidth\": 0, \"ticks\": \"\"}, \"colorscale\": [[0.0, \"#0d0887\"], [0.1111111111111111, \"#46039f\"], [0.2222222222222222, \"#7201a8\"], [0.3333333333333333, \"#9c179e\"], [0.4444444444444444, \"#bd3786\"], [0.5555555555555556, \"#d8576b\"], [0.6666666666666666, \"#ed7953\"], [0.7777777777777778, \"#fb9f3a\"], [0.8888888888888888, \"#fdca26\"], [1.0, \"#f0f921\"]], \"type\": \"histogram2dcontour\"}], \"mesh3d\": [{\"colorbar\": {\"outlinewidth\": 0, \"ticks\": \"\"}, \"type\": \"mesh3d\"}], \"parcoords\": [{\"line\": {\"colorbar\": {\"outlinewidth\": 0, \"ticks\": \"\"}}, \"type\": \"parcoords\"}], \"pie\": [{\"automargin\": true, \"type\": \"pie\"}], \"scatter\": [{\"marker\": {\"colorbar\": {\"outlinewidth\": 0, \"ticks\": \"\"}}, \"type\": \"scatter\"}], \"scatter3d\": [{\"line\": {\"colorbar\": {\"outlinewidth\": 0, \"ticks\": \"\"}}, \"marker\": {\"colorbar\": {\"outlinewidth\": 0, \"ticks\": \"\"}}, \"type\": \"scatter3d\"}], \"scattercarpet\": [{\"marker\": {\"colorbar\": {\"outlinewidth\": 0, \"ticks\": \"\"}}, \"type\": \"scattercarpet\"}], \"scattergeo\": [{\"marker\": {\"colorbar\": {\"outlinewidth\": 0, \"ticks\": \"\"}}, \"type\": \"scattergeo\"}], \"scattergl\": [{\"marker\": {\"colorbar\": {\"outlinewidth\": 0, \"ticks\": \"\"}}, \"type\": \"scattergl\"}], \"scattermapbox\": [{\"marker\": {\"colorbar\": {\"outlinewidth\": 0, \"ticks\": \"\"}}, \"type\": \"scattermapbox\"}], \"scatterpolar\": [{\"marker\": {\"colorbar\": {\"outlinewidth\": 0, \"ticks\": \"\"}}, \"type\": \"scatterpolar\"}], \"scatterpolargl\": [{\"marker\": {\"colorbar\": {\"outlinewidth\": 0, \"ticks\": \"\"}}, \"type\": \"scatterpolargl\"}], \"scatterternary\": [{\"marker\": {\"colorbar\": {\"outlinewidth\": 0, \"ticks\": \"\"}}, \"type\": \"scatterternary\"}], \"surface\": [{\"colorbar\": {\"outlinewidth\": 0, \"ticks\": \"\"}, \"colorscale\": [[0.0, \"#0d0887\"], [0.1111111111111111, \"#46039f\"], [0.2222222222222222, \"#7201a8\"], [0.3333333333333333, \"#9c179e\"], [0.4444444444444444, \"#bd3786\"], [0.5555555555555556, \"#d8576b\"], [0.6666666666666666, \"#ed7953\"], [0.7777777777777778, \"#fb9f3a\"], [0.8888888888888888, \"#fdca26\"], [1.0, \"#f0f921\"]], \"type\": \"surface\"}], \"table\": [{\"cells\": {\"fill\": {\"color\": \"#EBF0F8\"}, \"line\": {\"color\": \"white\"}}, \"header\": {\"fill\": {\"color\": \"#C8D4E3\"}, \"line\": {\"color\": \"white\"}}, \"type\": \"table\"}]}, \"layout\": {\"annotationdefaults\": {\"arrowcolor\": \"#2a3f5f\", \"arrowhead\": 0, \"arrowwidth\": 1}, \"coloraxis\": {\"colorbar\": {\"outlinewidth\": 0, \"ticks\": \"\"}}, \"colorscale\": {\"diverging\": [[0, \"#8e0152\"], [0.1, \"#c51b7d\"], [0.2, \"#de77ae\"], [0.3, \"#f1b6da\"], [0.4, \"#fde0ef\"], [0.5, \"#f7f7f7\"], [0.6, \"#e6f5d0\"], [0.7, \"#b8e186\"], [0.8, \"#7fbc41\"], [0.9, \"#4d9221\"], [1, \"#276419\"]], \"sequential\": [[0.0, \"#0d0887\"], [0.1111111111111111, \"#46039f\"], [0.2222222222222222, \"#7201a8\"], [0.3333333333333333, \"#9c179e\"], [0.4444444444444444, \"#bd3786\"], [0.5555555555555556, \"#d8576b\"], [0.6666666666666666, \"#ed7953\"], [0.7777777777777778, \"#fb9f3a\"], [0.8888888888888888, \"#fdca26\"], [1.0, \"#f0f921\"]], \"sequentialminus\": [[0.0, \"#0d0887\"], [0.1111111111111111, \"#46039f\"], [0.2222222222222222, \"#7201a8\"], [0.3333333333333333, \"#9c179e\"], [0.4444444444444444, \"#bd3786\"], [0.5555555555555556, \"#d8576b\"], [0.6666666666666666, \"#ed7953\"], [0.7777777777777778, \"#fb9f3a\"], [0.8888888888888888, \"#fdca26\"], [1.0, \"#f0f921\"]]}, \"colorway\": [\"#636efa\", \"#EF553B\", \"#00cc96\", \"#ab63fa\", \"#FFA15A\", \"#19d3f3\", \"#FF6692\", \"#B6E880\", \"#FF97FF\", \"#FECB52\"], \"font\": {\"color\": \"#2a3f5f\"}, \"geo\": {\"bgcolor\": \"white\", \"lakecolor\": \"white\", \"landcolor\": \"#E5ECF6\", \"showlakes\": true, \"showland\": true, \"subunitcolor\": \"white\"}, \"hoverlabel\": {\"align\": \"left\"}, \"hovermode\": \"closest\", \"mapbox\": {\"style\": \"light\"}, \"paper_bgcolor\": \"white\", \"plot_bgcolor\": \"#E5ECF6\", \"polar\": {\"angularaxis\": {\"gridcolor\": \"white\", \"linecolor\": \"white\", \"ticks\": \"\"}, \"bgcolor\": \"#E5ECF6\", \"radialaxis\": {\"gridcolor\": \"white\", \"linecolor\": \"white\", \"ticks\": \"\"}}, \"scene\": {\"xaxis\": {\"backgroundcolor\": \"#E5ECF6\", \"gridcolor\": \"white\", \"gridwidth\": 2, \"linecolor\": \"white\", \"showbackground\": true, \"ticks\": \"\", \"zerolinecolor\": \"white\"}, \"yaxis\": {\"backgroundcolor\": \"#E5ECF6\", \"gridcolor\": \"white\", \"gridwidth\": 2, \"linecolor\": \"white\", \"showbackground\": true, \"ticks\": \"\", \"zerolinecolor\": \"white\"}, \"zaxis\": {\"backgroundcolor\": \"#E5ECF6\", \"gridcolor\": \"white\", \"gridwidth\": 2, \"linecolor\": \"white\", \"showbackground\": true, \"ticks\": \"\", \"zerolinecolor\": \"white\"}}, \"shapedefaults\": {\"line\": {\"color\": \"#2a3f5f\"}}, \"ternary\": {\"aaxis\": {\"gridcolor\": \"white\", \"linecolor\": \"white\", \"ticks\": \"\"}, \"baxis\": {\"gridcolor\": \"white\", \"linecolor\": \"white\", \"ticks\": \"\"}, \"bgcolor\": \"#E5ECF6\", \"caxis\": {\"gridcolor\": \"white\", \"linecolor\": \"white\", \"ticks\": \"\"}}, \"title\": {\"x\": 0.05}, \"xaxis\": {\"automargin\": true, \"gridcolor\": \"white\", \"linecolor\": \"white\", \"ticks\": \"\", \"title\": {\"standoff\": 15}, \"zerolinecolor\": \"white\", \"zerolinewidth\": 2}, \"yaxis\": {\"automargin\": true, \"gridcolor\": \"white\", \"linecolor\": \"white\", \"ticks\": \"\", \"title\": {\"standoff\": 15}, \"zerolinecolor\": \"white\", \"zerolinewidth\": 2}}}, \"title\": {\"text\": \"Countries with highest number of deaths\"}, \"width\": 1000, \"xaxis\": {\"anchor\": \"y\", \"domain\": [0.0, 1.0], \"title\": {\"text\": \"country\"}}, \"yaxis\": {\"anchor\": \"x\", \"domain\": [0.0, 1.0], \"title\": {\"text\": \"deaths\"}}},\n",
       "                        {\"responsive\": true}\n",
       "                    ).then(function(){\n",
       "                            \n",
       "var gd = document.getElementById('2753be67-9e8c-437f-a583-72576e62c541');\n",
       "var x = new MutationObserver(function (mutations, observer) {{\n",
       "        var display = window.getComputedStyle(gd).display;\n",
       "        if (!display || display === 'none') {{\n",
       "            console.log([gd, 'removed!']);\n",
       "            Plotly.purge(gd);\n",
       "            observer.disconnect();\n",
       "        }}\n",
       "}});\n",
       "\n",
       "// Listen for the removal of the full notebook cells\n",
       "var notebookContainer = gd.closest('#notebook-container');\n",
       "if (notebookContainer) {{\n",
       "    x.observe(notebookContainer, {childList: true});\n",
       "}}\n",
       "\n",
       "// Listen for the clearing of the current output cell\n",
       "var outputEl = gd.closest('.output');\n",
       "if (outputEl) {{\n",
       "    x.observe(outputEl, {childList: true});\n",
       "}}\n",
       "\n",
       "                        })\n",
       "                };\n",
       "                });\n",
       "            </script>\n",
       "        </div>"
      ]
     },
     "metadata": {},
     "output_type": "display_data"
    }
   ],
   "source": [
    "px.bar(\n",
    "    sorted_country_df.head(10),\n",
    "    x = \"country\",\n",
    "    y = \"deaths\",\n",
    "    title= \"Countries with highest number of deaths\",\n",
    "    color_discrete_sequence=[\"maroon\"], \n",
    "    height=500,\n",
    "    width=1000\n",
    ")"
   ]
  },
  {
   "cell_type": "markdown",
   "metadata": {},
   "source": [
    "### Countries with the highest death rates"
   ]
  },
  {
   "cell_type": "code",
   "execution_count": 162,
   "metadata": {},
   "outputs": [],
   "source": [
    "sorted_country_df['death_rates']=sorted_country_df['deaths']/sorted_country_df['confirmed']\n",
    "sorted_country_df.sort_values('death_rates',ascending=False,inplace=True)\n",
    "sorted_country_df=sorted_country_df.reset_index(drop=True)"
   ]
  },
  {
   "cell_type": "code",
   "execution_count": 168,
   "metadata": {},
   "outputs": [
    {
     "data": {
      "application/vnd.plotly.v1+json": {
       "config": {
        "plotlyServerURL": "https://plot.ly"
       },
       "data": [
        {
         "alignmentgroup": "True",
         "hovertemplate": "country=%{x}<br>death_rates=%{y}<extra></extra>",
         "legendgroup": "",
         "marker": {
          "color": "red"
         },
         "name": "",
         "offsetgroup": "",
         "orientation": "v",
         "showlegend": false,
         "textposition": "auto",
         "type": "bar",
         "x": [
          "MS Zaandam",
          "Belgium",
          "Yemen",
          "France",
          "United Kingdom",
          "Italy",
          "Hungary",
          "Netherlands",
          "Spain",
          "Antigua and Barbuda"
         ],
         "xaxis": "x",
         "y": [
          0.2222222222222222,
          0.1630125108385978,
          0.15789473684210525,
          0.15504225228294194,
          0.1427408593019297,
          0.1426409747308207,
          0.12941816204458945,
          0.12879258339247693,
          0.12191258133751234,
          0.12
         ],
         "yaxis": "y"
        }
       ],
       "layout": {
        "barmode": "relative",
        "height": 500,
        "legend": {
         "tracegroupgap": 0
        },
        "template": {
         "data": {
          "bar": [
           {
            "error_x": {
             "color": "#2a3f5f"
            },
            "error_y": {
             "color": "#2a3f5f"
            },
            "marker": {
             "line": {
              "color": "#E5ECF6",
              "width": 0.5
             }
            },
            "type": "bar"
           }
          ],
          "barpolar": [
           {
            "marker": {
             "line": {
              "color": "#E5ECF6",
              "width": 0.5
             }
            },
            "type": "barpolar"
           }
          ],
          "carpet": [
           {
            "aaxis": {
             "endlinecolor": "#2a3f5f",
             "gridcolor": "white",
             "linecolor": "white",
             "minorgridcolor": "white",
             "startlinecolor": "#2a3f5f"
            },
            "baxis": {
             "endlinecolor": "#2a3f5f",
             "gridcolor": "white",
             "linecolor": "white",
             "minorgridcolor": "white",
             "startlinecolor": "#2a3f5f"
            },
            "type": "carpet"
           }
          ],
          "choropleth": [
           {
            "colorbar": {
             "outlinewidth": 0,
             "ticks": ""
            },
            "type": "choropleth"
           }
          ],
          "contour": [
           {
            "colorbar": {
             "outlinewidth": 0,
             "ticks": ""
            },
            "colorscale": [
             [
              0,
              "#0d0887"
             ],
             [
              0.1111111111111111,
              "#46039f"
             ],
             [
              0.2222222222222222,
              "#7201a8"
             ],
             [
              0.3333333333333333,
              "#9c179e"
             ],
             [
              0.4444444444444444,
              "#bd3786"
             ],
             [
              0.5555555555555556,
              "#d8576b"
             ],
             [
              0.6666666666666666,
              "#ed7953"
             ],
             [
              0.7777777777777778,
              "#fb9f3a"
             ],
             [
              0.8888888888888888,
              "#fdca26"
             ],
             [
              1,
              "#f0f921"
             ]
            ],
            "type": "contour"
           }
          ],
          "contourcarpet": [
           {
            "colorbar": {
             "outlinewidth": 0,
             "ticks": ""
            },
            "type": "contourcarpet"
           }
          ],
          "heatmap": [
           {
            "colorbar": {
             "outlinewidth": 0,
             "ticks": ""
            },
            "colorscale": [
             [
              0,
              "#0d0887"
             ],
             [
              0.1111111111111111,
              "#46039f"
             ],
             [
              0.2222222222222222,
              "#7201a8"
             ],
             [
              0.3333333333333333,
              "#9c179e"
             ],
             [
              0.4444444444444444,
              "#bd3786"
             ],
             [
              0.5555555555555556,
              "#d8576b"
             ],
             [
              0.6666666666666666,
              "#ed7953"
             ],
             [
              0.7777777777777778,
              "#fb9f3a"
             ],
             [
              0.8888888888888888,
              "#fdca26"
             ],
             [
              1,
              "#f0f921"
             ]
            ],
            "type": "heatmap"
           }
          ],
          "heatmapgl": [
           {
            "colorbar": {
             "outlinewidth": 0,
             "ticks": ""
            },
            "colorscale": [
             [
              0,
              "#0d0887"
             ],
             [
              0.1111111111111111,
              "#46039f"
             ],
             [
              0.2222222222222222,
              "#7201a8"
             ],
             [
              0.3333333333333333,
              "#9c179e"
             ],
             [
              0.4444444444444444,
              "#bd3786"
             ],
             [
              0.5555555555555556,
              "#d8576b"
             ],
             [
              0.6666666666666666,
              "#ed7953"
             ],
             [
              0.7777777777777778,
              "#fb9f3a"
             ],
             [
              0.8888888888888888,
              "#fdca26"
             ],
             [
              1,
              "#f0f921"
             ]
            ],
            "type": "heatmapgl"
           }
          ],
          "histogram": [
           {
            "marker": {
             "colorbar": {
              "outlinewidth": 0,
              "ticks": ""
             }
            },
            "type": "histogram"
           }
          ],
          "histogram2d": [
           {
            "colorbar": {
             "outlinewidth": 0,
             "ticks": ""
            },
            "colorscale": [
             [
              0,
              "#0d0887"
             ],
             [
              0.1111111111111111,
              "#46039f"
             ],
             [
              0.2222222222222222,
              "#7201a8"
             ],
             [
              0.3333333333333333,
              "#9c179e"
             ],
             [
              0.4444444444444444,
              "#bd3786"
             ],
             [
              0.5555555555555556,
              "#d8576b"
             ],
             [
              0.6666666666666666,
              "#ed7953"
             ],
             [
              0.7777777777777778,
              "#fb9f3a"
             ],
             [
              0.8888888888888888,
              "#fdca26"
             ],
             [
              1,
              "#f0f921"
             ]
            ],
            "type": "histogram2d"
           }
          ],
          "histogram2dcontour": [
           {
            "colorbar": {
             "outlinewidth": 0,
             "ticks": ""
            },
            "colorscale": [
             [
              0,
              "#0d0887"
             ],
             [
              0.1111111111111111,
              "#46039f"
             ],
             [
              0.2222222222222222,
              "#7201a8"
             ],
             [
              0.3333333333333333,
              "#9c179e"
             ],
             [
              0.4444444444444444,
              "#bd3786"
             ],
             [
              0.5555555555555556,
              "#d8576b"
             ],
             [
              0.6666666666666666,
              "#ed7953"
             ],
             [
              0.7777777777777778,
              "#fb9f3a"
             ],
             [
              0.8888888888888888,
              "#fdca26"
             ],
             [
              1,
              "#f0f921"
             ]
            ],
            "type": "histogram2dcontour"
           }
          ],
          "mesh3d": [
           {
            "colorbar": {
             "outlinewidth": 0,
             "ticks": ""
            },
            "type": "mesh3d"
           }
          ],
          "parcoords": [
           {
            "line": {
             "colorbar": {
              "outlinewidth": 0,
              "ticks": ""
             }
            },
            "type": "parcoords"
           }
          ],
          "pie": [
           {
            "automargin": true,
            "type": "pie"
           }
          ],
          "scatter": [
           {
            "marker": {
             "colorbar": {
              "outlinewidth": 0,
              "ticks": ""
             }
            },
            "type": "scatter"
           }
          ],
          "scatter3d": [
           {
            "line": {
             "colorbar": {
              "outlinewidth": 0,
              "ticks": ""
             }
            },
            "marker": {
             "colorbar": {
              "outlinewidth": 0,
              "ticks": ""
             }
            },
            "type": "scatter3d"
           }
          ],
          "scattercarpet": [
           {
            "marker": {
             "colorbar": {
              "outlinewidth": 0,
              "ticks": ""
             }
            },
            "type": "scattercarpet"
           }
          ],
          "scattergeo": [
           {
            "marker": {
             "colorbar": {
              "outlinewidth": 0,
              "ticks": ""
             }
            },
            "type": "scattergeo"
           }
          ],
          "scattergl": [
           {
            "marker": {
             "colorbar": {
              "outlinewidth": 0,
              "ticks": ""
             }
            },
            "type": "scattergl"
           }
          ],
          "scattermapbox": [
           {
            "marker": {
             "colorbar": {
              "outlinewidth": 0,
              "ticks": ""
             }
            },
            "type": "scattermapbox"
           }
          ],
          "scatterpolar": [
           {
            "marker": {
             "colorbar": {
              "outlinewidth": 0,
              "ticks": ""
             }
            },
            "type": "scatterpolar"
           }
          ],
          "scatterpolargl": [
           {
            "marker": {
             "colorbar": {
              "outlinewidth": 0,
              "ticks": ""
             }
            },
            "type": "scatterpolargl"
           }
          ],
          "scatterternary": [
           {
            "marker": {
             "colorbar": {
              "outlinewidth": 0,
              "ticks": ""
             }
            },
            "type": "scatterternary"
           }
          ],
          "surface": [
           {
            "colorbar": {
             "outlinewidth": 0,
             "ticks": ""
            },
            "colorscale": [
             [
              0,
              "#0d0887"
             ],
             [
              0.1111111111111111,
              "#46039f"
             ],
             [
              0.2222222222222222,
              "#7201a8"
             ],
             [
              0.3333333333333333,
              "#9c179e"
             ],
             [
              0.4444444444444444,
              "#bd3786"
             ],
             [
              0.5555555555555556,
              "#d8576b"
             ],
             [
              0.6666666666666666,
              "#ed7953"
             ],
             [
              0.7777777777777778,
              "#fb9f3a"
             ],
             [
              0.8888888888888888,
              "#fdca26"
             ],
             [
              1,
              "#f0f921"
             ]
            ],
            "type": "surface"
           }
          ],
          "table": [
           {
            "cells": {
             "fill": {
              "color": "#EBF0F8"
             },
             "line": {
              "color": "white"
             }
            },
            "header": {
             "fill": {
              "color": "#C8D4E3"
             },
             "line": {
              "color": "white"
             }
            },
            "type": "table"
           }
          ]
         },
         "layout": {
          "annotationdefaults": {
           "arrowcolor": "#2a3f5f",
           "arrowhead": 0,
           "arrowwidth": 1
          },
          "coloraxis": {
           "colorbar": {
            "outlinewidth": 0,
            "ticks": ""
           }
          },
          "colorscale": {
           "diverging": [
            [
             0,
             "#8e0152"
            ],
            [
             0.1,
             "#c51b7d"
            ],
            [
             0.2,
             "#de77ae"
            ],
            [
             0.3,
             "#f1b6da"
            ],
            [
             0.4,
             "#fde0ef"
            ],
            [
             0.5,
             "#f7f7f7"
            ],
            [
             0.6,
             "#e6f5d0"
            ],
            [
             0.7,
             "#b8e186"
            ],
            [
             0.8,
             "#7fbc41"
            ],
            [
             0.9,
             "#4d9221"
            ],
            [
             1,
             "#276419"
            ]
           ],
           "sequential": [
            [
             0,
             "#0d0887"
            ],
            [
             0.1111111111111111,
             "#46039f"
            ],
            [
             0.2222222222222222,
             "#7201a8"
            ],
            [
             0.3333333333333333,
             "#9c179e"
            ],
            [
             0.4444444444444444,
             "#bd3786"
            ],
            [
             0.5555555555555556,
             "#d8576b"
            ],
            [
             0.6666666666666666,
             "#ed7953"
            ],
            [
             0.7777777777777778,
             "#fb9f3a"
            ],
            [
             0.8888888888888888,
             "#fdca26"
            ],
            [
             1,
             "#f0f921"
            ]
           ],
           "sequentialminus": [
            [
             0,
             "#0d0887"
            ],
            [
             0.1111111111111111,
             "#46039f"
            ],
            [
             0.2222222222222222,
             "#7201a8"
            ],
            [
             0.3333333333333333,
             "#9c179e"
            ],
            [
             0.4444444444444444,
             "#bd3786"
            ],
            [
             0.5555555555555556,
             "#d8576b"
            ],
            [
             0.6666666666666666,
             "#ed7953"
            ],
            [
             0.7777777777777778,
             "#fb9f3a"
            ],
            [
             0.8888888888888888,
             "#fdca26"
            ],
            [
             1,
             "#f0f921"
            ]
           ]
          },
          "colorway": [
           "#636efa",
           "#EF553B",
           "#00cc96",
           "#ab63fa",
           "#FFA15A",
           "#19d3f3",
           "#FF6692",
           "#B6E880",
           "#FF97FF",
           "#FECB52"
          ],
          "font": {
           "color": "#2a3f5f"
          },
          "geo": {
           "bgcolor": "white",
           "lakecolor": "white",
           "landcolor": "#E5ECF6",
           "showlakes": true,
           "showland": true,
           "subunitcolor": "white"
          },
          "hoverlabel": {
           "align": "left"
          },
          "hovermode": "closest",
          "mapbox": {
           "style": "light"
          },
          "paper_bgcolor": "white",
          "plot_bgcolor": "#E5ECF6",
          "polar": {
           "angularaxis": {
            "gridcolor": "white",
            "linecolor": "white",
            "ticks": ""
           },
           "bgcolor": "#E5ECF6",
           "radialaxis": {
            "gridcolor": "white",
            "linecolor": "white",
            "ticks": ""
           }
          },
          "scene": {
           "xaxis": {
            "backgroundcolor": "#E5ECF6",
            "gridcolor": "white",
            "gridwidth": 2,
            "linecolor": "white",
            "showbackground": true,
            "ticks": "",
            "zerolinecolor": "white"
           },
           "yaxis": {
            "backgroundcolor": "#E5ECF6",
            "gridcolor": "white",
            "gridwidth": 2,
            "linecolor": "white",
            "showbackground": true,
            "ticks": "",
            "zerolinecolor": "white"
           },
           "zaxis": {
            "backgroundcolor": "#E5ECF6",
            "gridcolor": "white",
            "gridwidth": 2,
            "linecolor": "white",
            "showbackground": true,
            "ticks": "",
            "zerolinecolor": "white"
           }
          },
          "shapedefaults": {
           "line": {
            "color": "#2a3f5f"
           }
          },
          "ternary": {
           "aaxis": {
            "gridcolor": "white",
            "linecolor": "white",
            "ticks": ""
           },
           "baxis": {
            "gridcolor": "white",
            "linecolor": "white",
            "ticks": ""
           },
           "bgcolor": "#E5ECF6",
           "caxis": {
            "gridcolor": "white",
            "linecolor": "white",
            "ticks": ""
           }
          },
          "title": {
           "x": 0.05
          },
          "xaxis": {
           "automargin": true,
           "gridcolor": "white",
           "linecolor": "white",
           "ticks": "",
           "title": {
            "standoff": 15
           },
           "zerolinecolor": "white",
           "zerolinewidth": 2
          },
          "yaxis": {
           "automargin": true,
           "gridcolor": "white",
           "linecolor": "white",
           "ticks": "",
           "title": {
            "standoff": 15
           },
           "zerolinecolor": "white",
           "zerolinewidth": 2
          }
         }
        },
        "title": {
         "text": "Highest Death Rates (Total Deaths:Total Confirmed)"
        },
        "width": 800,
        "xaxis": {
         "anchor": "y",
         "domain": [
          0,
          1
         ],
         "title": {
          "text": "country"
         }
        },
        "yaxis": {
         "anchor": "x",
         "domain": [
          0,
          1
         ],
         "title": {
          "text": "death_rates"
         }
        }
       }
      },
      "text/html": [
       "<div>\n",
       "        \n",
       "        \n",
       "            <div id=\"b5400181-bc5a-4cd6-b119-03d109208981\" class=\"plotly-graph-div\" style=\"height:500px; width:800px;\"></div>\n",
       "            <script type=\"text/javascript\">\n",
       "                require([\"plotly\"], function(Plotly) {\n",
       "                    window.PLOTLYENV=window.PLOTLYENV || {};\n",
       "                    \n",
       "                if (document.getElementById(\"b5400181-bc5a-4cd6-b119-03d109208981\")) {\n",
       "                    Plotly.newPlot(\n",
       "                        'b5400181-bc5a-4cd6-b119-03d109208981',\n",
       "                        [{\"alignmentgroup\": \"True\", \"hovertemplate\": \"country=%{x}<br>death_rates=%{y}<extra></extra>\", \"legendgroup\": \"\", \"marker\": {\"color\": \"red\"}, \"name\": \"\", \"offsetgroup\": \"\", \"orientation\": \"v\", \"showlegend\": false, \"textposition\": \"auto\", \"type\": \"bar\", \"x\": [\"MS Zaandam\", \"Belgium\", \"Yemen\", \"France\", \"United Kingdom\", \"Italy\", \"Hungary\", \"Netherlands\", \"Spain\", \"Antigua and Barbuda\"], \"xaxis\": \"x\", \"y\": [0.2222222222222222, 0.1630125108385978, 0.15789473684210525, 0.15504225228294194, 0.1427408593019297, 0.1426409747308207, 0.12941816204458945, 0.12879258339247693, 0.12191258133751234, 0.12], \"yaxis\": \"y\"}],\n",
       "                        {\"barmode\": \"relative\", \"height\": 500, \"legend\": {\"tracegroupgap\": 0}, \"template\": {\"data\": {\"bar\": [{\"error_x\": {\"color\": \"#2a3f5f\"}, \"error_y\": {\"color\": \"#2a3f5f\"}, \"marker\": {\"line\": {\"color\": \"#E5ECF6\", \"width\": 0.5}}, \"type\": \"bar\"}], \"barpolar\": [{\"marker\": {\"line\": {\"color\": \"#E5ECF6\", \"width\": 0.5}}, \"type\": \"barpolar\"}], \"carpet\": [{\"aaxis\": {\"endlinecolor\": \"#2a3f5f\", \"gridcolor\": \"white\", \"linecolor\": \"white\", \"minorgridcolor\": \"white\", \"startlinecolor\": \"#2a3f5f\"}, \"baxis\": {\"endlinecolor\": \"#2a3f5f\", \"gridcolor\": \"white\", \"linecolor\": \"white\", \"minorgridcolor\": \"white\", \"startlinecolor\": \"#2a3f5f\"}, \"type\": \"carpet\"}], \"choropleth\": [{\"colorbar\": {\"outlinewidth\": 0, \"ticks\": \"\"}, \"type\": \"choropleth\"}], \"contour\": [{\"colorbar\": {\"outlinewidth\": 0, \"ticks\": \"\"}, \"colorscale\": [[0.0, \"#0d0887\"], [0.1111111111111111, \"#46039f\"], [0.2222222222222222, \"#7201a8\"], [0.3333333333333333, \"#9c179e\"], [0.4444444444444444, \"#bd3786\"], [0.5555555555555556, \"#d8576b\"], [0.6666666666666666, \"#ed7953\"], [0.7777777777777778, \"#fb9f3a\"], [0.8888888888888888, \"#fdca26\"], [1.0, \"#f0f921\"]], \"type\": \"contour\"}], \"contourcarpet\": [{\"colorbar\": {\"outlinewidth\": 0, \"ticks\": \"\"}, \"type\": \"contourcarpet\"}], \"heatmap\": [{\"colorbar\": {\"outlinewidth\": 0, \"ticks\": \"\"}, \"colorscale\": [[0.0, \"#0d0887\"], [0.1111111111111111, \"#46039f\"], [0.2222222222222222, \"#7201a8\"], [0.3333333333333333, \"#9c179e\"], [0.4444444444444444, \"#bd3786\"], [0.5555555555555556, \"#d8576b\"], [0.6666666666666666, \"#ed7953\"], [0.7777777777777778, \"#fb9f3a\"], [0.8888888888888888, \"#fdca26\"], [1.0, \"#f0f921\"]], \"type\": \"heatmap\"}], \"heatmapgl\": [{\"colorbar\": {\"outlinewidth\": 0, \"ticks\": \"\"}, \"colorscale\": [[0.0, \"#0d0887\"], [0.1111111111111111, \"#46039f\"], [0.2222222222222222, \"#7201a8\"], [0.3333333333333333, \"#9c179e\"], [0.4444444444444444, \"#bd3786\"], [0.5555555555555556, \"#d8576b\"], [0.6666666666666666, \"#ed7953\"], [0.7777777777777778, \"#fb9f3a\"], [0.8888888888888888, \"#fdca26\"], [1.0, \"#f0f921\"]], \"type\": \"heatmapgl\"}], \"histogram\": [{\"marker\": {\"colorbar\": {\"outlinewidth\": 0, \"ticks\": \"\"}}, \"type\": \"histogram\"}], \"histogram2d\": [{\"colorbar\": {\"outlinewidth\": 0, \"ticks\": \"\"}, \"colorscale\": [[0.0, \"#0d0887\"], [0.1111111111111111, \"#46039f\"], [0.2222222222222222, \"#7201a8\"], [0.3333333333333333, \"#9c179e\"], [0.4444444444444444, \"#bd3786\"], [0.5555555555555556, \"#d8576b\"], [0.6666666666666666, \"#ed7953\"], [0.7777777777777778, \"#fb9f3a\"], [0.8888888888888888, \"#fdca26\"], [1.0, \"#f0f921\"]], \"type\": \"histogram2d\"}], \"histogram2dcontour\": [{\"colorbar\": {\"outlinewidth\": 0, \"ticks\": \"\"}, \"colorscale\": [[0.0, \"#0d0887\"], [0.1111111111111111, \"#46039f\"], [0.2222222222222222, \"#7201a8\"], [0.3333333333333333, \"#9c179e\"], [0.4444444444444444, \"#bd3786\"], [0.5555555555555556, \"#d8576b\"], [0.6666666666666666, \"#ed7953\"], [0.7777777777777778, \"#fb9f3a\"], [0.8888888888888888, \"#fdca26\"], [1.0, \"#f0f921\"]], \"type\": \"histogram2dcontour\"}], \"mesh3d\": [{\"colorbar\": {\"outlinewidth\": 0, \"ticks\": \"\"}, \"type\": \"mesh3d\"}], \"parcoords\": [{\"line\": {\"colorbar\": {\"outlinewidth\": 0, \"ticks\": \"\"}}, \"type\": \"parcoords\"}], \"pie\": [{\"automargin\": true, \"type\": \"pie\"}], \"scatter\": [{\"marker\": {\"colorbar\": {\"outlinewidth\": 0, \"ticks\": \"\"}}, \"type\": \"scatter\"}], \"scatter3d\": [{\"line\": {\"colorbar\": {\"outlinewidth\": 0, \"ticks\": \"\"}}, \"marker\": {\"colorbar\": {\"outlinewidth\": 0, \"ticks\": \"\"}}, \"type\": \"scatter3d\"}], \"scattercarpet\": [{\"marker\": {\"colorbar\": {\"outlinewidth\": 0, \"ticks\": \"\"}}, \"type\": \"scattercarpet\"}], \"scattergeo\": [{\"marker\": {\"colorbar\": {\"outlinewidth\": 0, \"ticks\": \"\"}}, \"type\": \"scattergeo\"}], \"scattergl\": [{\"marker\": {\"colorbar\": {\"outlinewidth\": 0, \"ticks\": \"\"}}, \"type\": \"scattergl\"}], \"scattermapbox\": [{\"marker\": {\"colorbar\": {\"outlinewidth\": 0, \"ticks\": \"\"}}, \"type\": \"scattermapbox\"}], \"scatterpolar\": [{\"marker\": {\"colorbar\": {\"outlinewidth\": 0, \"ticks\": \"\"}}, \"type\": \"scatterpolar\"}], \"scatterpolargl\": [{\"marker\": {\"colorbar\": {\"outlinewidth\": 0, \"ticks\": \"\"}}, \"type\": \"scatterpolargl\"}], \"scatterternary\": [{\"marker\": {\"colorbar\": {\"outlinewidth\": 0, \"ticks\": \"\"}}, \"type\": \"scatterternary\"}], \"surface\": [{\"colorbar\": {\"outlinewidth\": 0, \"ticks\": \"\"}, \"colorscale\": [[0.0, \"#0d0887\"], [0.1111111111111111, \"#46039f\"], [0.2222222222222222, \"#7201a8\"], [0.3333333333333333, \"#9c179e\"], [0.4444444444444444, \"#bd3786\"], [0.5555555555555556, \"#d8576b\"], [0.6666666666666666, \"#ed7953\"], [0.7777777777777778, \"#fb9f3a\"], [0.8888888888888888, \"#fdca26\"], [1.0, \"#f0f921\"]], \"type\": \"surface\"}], \"table\": [{\"cells\": {\"fill\": {\"color\": \"#EBF0F8\"}, \"line\": {\"color\": \"white\"}}, \"header\": {\"fill\": {\"color\": \"#C8D4E3\"}, \"line\": {\"color\": \"white\"}}, \"type\": \"table\"}]}, \"layout\": {\"annotationdefaults\": {\"arrowcolor\": \"#2a3f5f\", \"arrowhead\": 0, \"arrowwidth\": 1}, \"coloraxis\": {\"colorbar\": {\"outlinewidth\": 0, \"ticks\": \"\"}}, \"colorscale\": {\"diverging\": [[0, \"#8e0152\"], [0.1, \"#c51b7d\"], [0.2, \"#de77ae\"], [0.3, \"#f1b6da\"], [0.4, \"#fde0ef\"], [0.5, \"#f7f7f7\"], [0.6, \"#e6f5d0\"], [0.7, \"#b8e186\"], [0.8, \"#7fbc41\"], [0.9, \"#4d9221\"], [1, \"#276419\"]], \"sequential\": [[0.0, \"#0d0887\"], [0.1111111111111111, \"#46039f\"], [0.2222222222222222, \"#7201a8\"], [0.3333333333333333, \"#9c179e\"], [0.4444444444444444, \"#bd3786\"], [0.5555555555555556, \"#d8576b\"], [0.6666666666666666, \"#ed7953\"], [0.7777777777777778, \"#fb9f3a\"], [0.8888888888888888, \"#fdca26\"], [1.0, \"#f0f921\"]], \"sequentialminus\": [[0.0, \"#0d0887\"], [0.1111111111111111, \"#46039f\"], [0.2222222222222222, \"#7201a8\"], [0.3333333333333333, \"#9c179e\"], [0.4444444444444444, \"#bd3786\"], [0.5555555555555556, \"#d8576b\"], [0.6666666666666666, \"#ed7953\"], [0.7777777777777778, \"#fb9f3a\"], [0.8888888888888888, \"#fdca26\"], [1.0, \"#f0f921\"]]}, \"colorway\": [\"#636efa\", \"#EF553B\", \"#00cc96\", \"#ab63fa\", \"#FFA15A\", \"#19d3f3\", \"#FF6692\", \"#B6E880\", \"#FF97FF\", \"#FECB52\"], \"font\": {\"color\": \"#2a3f5f\"}, \"geo\": {\"bgcolor\": \"white\", \"lakecolor\": \"white\", \"landcolor\": \"#E5ECF6\", \"showlakes\": true, \"showland\": true, \"subunitcolor\": \"white\"}, \"hoverlabel\": {\"align\": \"left\"}, \"hovermode\": \"closest\", \"mapbox\": {\"style\": \"light\"}, \"paper_bgcolor\": \"white\", \"plot_bgcolor\": \"#E5ECF6\", \"polar\": {\"angularaxis\": {\"gridcolor\": \"white\", \"linecolor\": \"white\", \"ticks\": \"\"}, \"bgcolor\": \"#E5ECF6\", \"radialaxis\": {\"gridcolor\": \"white\", \"linecolor\": \"white\", \"ticks\": \"\"}}, \"scene\": {\"xaxis\": {\"backgroundcolor\": \"#E5ECF6\", \"gridcolor\": \"white\", \"gridwidth\": 2, \"linecolor\": \"white\", \"showbackground\": true, \"ticks\": \"\", \"zerolinecolor\": \"white\"}, \"yaxis\": {\"backgroundcolor\": \"#E5ECF6\", \"gridcolor\": \"white\", \"gridwidth\": 2, \"linecolor\": \"white\", \"showbackground\": true, \"ticks\": \"\", \"zerolinecolor\": \"white\"}, \"zaxis\": {\"backgroundcolor\": \"#E5ECF6\", \"gridcolor\": \"white\", \"gridwidth\": 2, \"linecolor\": \"white\", \"showbackground\": true, \"ticks\": \"\", \"zerolinecolor\": \"white\"}}, \"shapedefaults\": {\"line\": {\"color\": \"#2a3f5f\"}}, \"ternary\": {\"aaxis\": {\"gridcolor\": \"white\", \"linecolor\": \"white\", \"ticks\": \"\"}, \"baxis\": {\"gridcolor\": \"white\", \"linecolor\": \"white\", \"ticks\": \"\"}, \"bgcolor\": \"#E5ECF6\", \"caxis\": {\"gridcolor\": \"white\", \"linecolor\": \"white\", \"ticks\": \"\"}}, \"title\": {\"x\": 0.05}, \"xaxis\": {\"automargin\": true, \"gridcolor\": \"white\", \"linecolor\": \"white\", \"ticks\": \"\", \"title\": {\"standoff\": 15}, \"zerolinecolor\": \"white\", \"zerolinewidth\": 2}, \"yaxis\": {\"automargin\": true, \"gridcolor\": \"white\", \"linecolor\": \"white\", \"ticks\": \"\", \"title\": {\"standoff\": 15}, \"zerolinecolor\": \"white\", \"zerolinewidth\": 2}}}, \"title\": {\"text\": \"Highest Death Rates (Total Deaths:Total Confirmed)\"}, \"width\": 800, \"xaxis\": {\"anchor\": \"y\", \"domain\": [0.0, 1.0], \"title\": {\"text\": \"country\"}}, \"yaxis\": {\"anchor\": \"x\", \"domain\": [0.0, 1.0], \"title\": {\"text\": \"death_rates\"}}},\n",
       "                        {\"responsive\": true}\n",
       "                    ).then(function(){\n",
       "                            \n",
       "var gd = document.getElementById('b5400181-bc5a-4cd6-b119-03d109208981');\n",
       "var x = new MutationObserver(function (mutations, observer) {{\n",
       "        var display = window.getComputedStyle(gd).display;\n",
       "        if (!display || display === 'none') {{\n",
       "            console.log([gd, 'removed!']);\n",
       "            Plotly.purge(gd);\n",
       "            observer.disconnect();\n",
       "        }}\n",
       "}});\n",
       "\n",
       "// Listen for the removal of the full notebook cells\n",
       "var notebookContainer = gd.closest('#notebook-container');\n",
       "if (notebookContainer) {{\n",
       "    x.observe(notebookContainer, {childList: true});\n",
       "}}\n",
       "\n",
       "// Listen for the clearing of the current output cell\n",
       "var outputEl = gd.closest('.output');\n",
       "if (outputEl) {{\n",
       "    x.observe(outputEl, {childList: true});\n",
       "}}\n",
       "\n",
       "                        })\n",
       "                };\n",
       "                });\n",
       "            </script>\n",
       "        </div>"
      ]
     },
     "metadata": {},
     "output_type": "display_data"
    }
   ],
   "source": [
    "px.bar(\n",
    "    sorted_country_df.head(10),\n",
    "    x = \"country\",\n",
    "    y = \"death_rates\",\n",
    "    title= \"Highest Death Rates (Total Deaths:Total Confirmed)\",\n",
    "    color_discrete_sequence=[\"red\"], \n",
    "    height=500,\n",
    "    width=800\n",
    ")"
   ]
  },
  {
   "cell_type": "markdown",
   "metadata": {},
   "source": [
    "### Confirmed cases & deaths by day for a select country; input country you want to view"
   ]
  },
  {
   "cell_type": "code",
   "execution_count": 169,
   "metadata": {},
   "outputs": [],
   "source": [
    "def plot_cases_of_a_country(country):\n",
    "    labels = ['confirmed', 'deaths']\n",
    "    colors = ['blue', 'red']\n",
    "    mode_size = [6, 8]\n",
    "    line_size = [4, 5]\n",
    "    \n",
    "    df_list = [confirmed_df, death_df]\n",
    "    \n",
    "    fig = go.Figure();\n",
    "    \n",
    "    for i, df in enumerate(df_list):\n",
    "        if country == 'World' or country == 'world':\n",
    "            x_data = np.array(list(df.iloc[:, 22:].columns))\n",
    "            y_data = np.sum(np.asarray(df.iloc[:,4:]),axis = 0)\n",
    "            \n",
    "        else:    \n",
    "            x_data = np.array(list(df.iloc[:, 22:].columns))\n",
    "            y_data = np.sum(np.asarray(df[df['country'].str.lower() == country.lower()].iloc[:,4:]),axis = 0)\n",
    "            \n",
    "        fig.add_trace(go.Scatter(x=x_data, y=y_data, mode='lines+markers',\n",
    "        name=labels[i],\n",
    "        line=dict(color=colors[i], width=line_size[i]),\n",
    "        connectgaps=True,\n",
    "        text = \"Total \" + str(labels[i]) +\": \"+ str(y_data[-1])\n",
    "        ));\n",
    "    \n",
    "    fig.update_layout(\n",
    "        title=\"COVID 19 cases of \" + country,\n",
    "        xaxis_title='Date',\n",
    "        yaxis_title='No. of Confirmed Cases',\n",
    "        margin=dict(l=20, r=20, t=40, b=20),\n",
    "        paper_bgcolor=\"lightgrey\",\n",
    "        width = 800,\n",
    "        \n",
    "    );\n",
    "    \n",
    "    fig.update_yaxes(type=\"linear\")\n",
    "    fig.show();"
   ]
  },
  {
   "cell_type": "code",
   "execution_count": 170,
   "metadata": {},
   "outputs": [
    {
     "data": {
      "application/vnd.jupyter.widget-view+json": {
       "model_id": "a0698fd02b8c419fba17908c2058937a",
       "version_major": 2,
       "version_minor": 0
      },
      "text/plain": [
       "interactive(children=(Text(value='world', description='country'), Output()), _dom_classes=('widget-interact',)…"
      ]
     },
     "metadata": {},
     "output_type": "display_data"
    },
    {
     "data": {
      "text/plain": [
       "<function __main__.plot_cases_of_a_country(country)>"
      ]
     },
     "execution_count": 170,
     "metadata": {},
     "output_type": "execute_result"
    }
   ],
   "source": [
    "interact(plot_cases_of_a_country,country='world')"
   ]
  },
  {
   "cell_type": "markdown",
   "metadata": {},
   "source": [
    "### Spread on the world map"
   ]
  },
  {
   "cell_type": "code",
   "execution_count": 171,
   "metadata": {},
   "outputs": [
    {
     "data": {
      "text/html": [
       "<div style=\"width:100%;\"><div style=\"position:relative;width:100%;height:0;padding-bottom:60%;\"><span style=\"color:#565656\">Make this Notebook Trusted to load map: File -> Trust Notebook</span><iframe src=\"about:blank\" style=\"position:absolute;width:100%;height:100%;left:0;top:0;border:none !important;\" data-html=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 onload=\"this.contentDocument.open();this.contentDocument.write(atob(this.getAttribute('data-html')));this.contentDocument.close();\" allowfullscreen webkitallowfullscreen mozallowfullscreen></iframe></div></div>"
      ],
      "text/plain": [
       "<folium.folium.Map at 0x1a91e569488>"
      ]
     },
     "execution_count": 171,
     "metadata": {},
     "output_type": "execute_result"
    }
   ],
   "source": [
    "# creating world map using Map class\n",
    "world_map = folium.Map(location=[11,0], tiles='Stamen Terrain', zoom_start=2, max_zoom = 6, min_zoom = 2)\n",
    "# iterate over all the rows of confirmed_df to get the lat/long\n",
    "for i in range(0,len(confirmed_df)):\n",
    "    folium.Circle(\n",
    "        location=[confirmed_df.iloc[i]['lat'], confirmed_df.iloc[i]['long']],\n",
    "        fill=True,\n",
    "        radius=(int((np.log(confirmed_df.iloc[i,-1]+1.00001)))+0.2)*50000,\n",
    "        color='red',\n",
    "        fill_color='blue',\n",
    "        popup='Camp Muir'\n",
    "    ).add_to(world_map)\n",
    "    \n",
    "world_map"
   ]
  },
  {
   "cell_type": "markdown",
   "metadata": {},
   "source": [
    "Developed by <a href=\"https://www.jacsons.co.ke/\">jacsons.co.ke</a>"
   ]
  }
 ],
 "metadata": {
  "kernelspec": {
   "display_name": "Python 3",
   "language": "python",
   "name": "python3"
  },
  "language_info": {
   "codemirror_mode": {
    "name": "ipython",
    "version": 3
   },
   "file_extension": ".py",
   "mimetype": "text/x-python",
   "name": "python",
   "nbconvert_exporter": "python",
   "pygments_lexer": "ipython3",
   "version": "3.7.4"
  }
 },
 "nbformat": 4,
 "nbformat_minor": 2
}
